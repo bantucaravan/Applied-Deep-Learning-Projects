{
  "nbformat": 4,
  "nbformat_minor": 0,
  "metadata": {
    "colab": {
      "name": "hw4.ipynb",
      "version": "0.3.2",
      "provenance": [],
      "collapsed_sections": [],
      "toc_visible": true
    },
    "language_info": {
      "codemirror_mode": {
        "name": "ipython",
        "version": 3
      },
      "file_extension": ".py",
      "mimetype": "text/x-python",
      "name": "python",
      "nbconvert_exporter": "python",
      "pygments_lexer": "ipython3",
      "version": "3.6.4"
    },
    "kernelspec": {
      "display_name": "Python 3",
      "language": "python",
      "name": "python3"
    }
  },
  "cells": [
    {
      "cell_type": "markdown",
      "metadata": {
        "id": "_yn8p7i8rfQv",
        "colab_type": "text"
      },
      "source": [
        "*italicized text*\n",
        "\n",
        "## Create Text Classifier in tf Python\n"
      ]
    },
    {
      "cell_type": "code",
      "metadata": {
        "id": "JE2Lai44rfQw",
        "colab_type": "code",
        "outputId": "b1e3bd21-0b8c-4701-9a23-858fed26ae97",
        "colab": {
          "base_uri": "https://localhost:8080/",
          "height": 122
        }
      },
      "source": [
        "!pip install tensorflow-gpu==2.0.0-alpha0\n",
        "!pip install unidecode\n",
        "#!pip install tensorflow==2.0.0-alpha0  \n",
        "#!pip install tensorflowjs==1.0.1"
      ],
      "execution_count": 0,
      "outputs": [
        {
          "output_type": "stream",
          "text": [
            "Collecting unidecode\n",
            "\u001b[?25l  Downloading https://files.pythonhosted.org/packages/31/39/53096f9217b057cb049fe872b7fc7ce799a1a89b76cf917d9639e7a558b5/Unidecode-1.0.23-py2.py3-none-any.whl (237kB)\n",
            "\u001b[K     |████████████████████████████████| 245kB 5.1MB/s \n",
            "\u001b[?25hInstalling collected packages: unidecode\n",
            "Successfully installed unidecode-1.0.23\n"
          ],
          "name": "stdout"
        }
      ]
    },
    {
      "cell_type": "code",
      "metadata": {
        "id": "ZdgBt3fqrfQ1",
        "colab_type": "code",
        "outputId": "29e2bfd1-b6ca-47ed-a2c6-9e27db7ab25d",
        "colab": {
          "base_uri": "https://localhost:8080/",
          "height": 51
        }
      },
      "source": [
        "import tensorflow as tf\n",
        "#import tensorflowjs as tfjs\n",
        "import nltk\n",
        "nltk.download('punkt') # download sentence tokenizer model\n",
        "import os\n",
        "import re\n",
        "import numpy as np\n",
        "import random\n",
        "import unicodedata\n",
        "import time\n",
        "import inspect"
      ],
      "execution_count": 41,
      "outputs": [
        {
          "output_type": "stream",
          "text": [
            "[nltk_data] Downloading package punkt to /root/nltk_data...\n",
            "[nltk_data]   Package punkt is already up-to-date!\n"
          ],
          "name": "stdout"
        }
      ]
    },
    {
      "cell_type": "markdown",
      "metadata": {
        "id": "Lj9IYboGrfQ6",
        "colab_type": "text"
      },
      "source": [
        "\n",
        "\n",
        "### Proj Desc\n",
        " This notebook takes 4 books. Takes 1000 <br>\n",
        " sentences from each book.  Tokenizes each word to a unique int.<br>\n",
        " Then feed each sentence into a deep model and output<br>\n",
        " a book classification.<br>\n",
        "\n",
        " <br>\n",
        " DNN 1 model--> each input is a (padded) sentence with one word = unique int, so <br>\n",
        " input vec represented a sentence one cell per word. NB: this word/sentence<br>\n",
        " vectorization allows no use of context as signal in the model as words as input vec order \n",
        " is not significant in a standard dense deep model\n",
        " \n",
        " \n",
        "RNN model 1 -->  each word gets vectorized (tf.embedding) and put in the <br>\n",
        " RNN. hidden state of RNN should learn the mix of words and some of tier ordering.\n",
        " Hidden state is passed to a dense layer for classification.\n",
        "\n",
        "<br>\n",
        " \n",
        "<br>\n",
        "\n",
        "Future considerations:\n",
        "- break text into non-sentence subsections\n",
        "- Maybe use output as n book classifier, and use as the loss the final <br>\n",
        " output in the  sequence... hopefully the hiddenstate will e very influential <br>\n",
        " and carry the  context of the past words<br>\n",
        "- Q: what would the effect be of varying the length of the snippet of text inputed into the model \n",
        " once trained. Can the model be made robust to varying input lengths?<br>\n",
        " It seems like variable length (with some max len) posses all sorts of logistical problems. \n",
        " I also wonder if  predicting random snippets fixed length snippets would be worse than predicting\n",
        " sentences...? It might be better bc no padding? or worse bc their maybe sentence\n",
        " structure patterns picked up in training.\n",
        "\n",
        "#### Load Raw book data  \n",
        "\n"
      ]
    },
    {
      "cell_type": "code",
      "metadata": {
        "id": "BMlZeDjArfQ8",
        "colab_type": "code",
        "outputId": "16bca447-5e5e-4b37-dbdc-86781642375e",
        "colab": {
          "base_uri": "https://localhost:8080/",
          "height": 54
        }
      },
      "source": [
        "#change this locally\n",
        "#data_dir = './data' \n",
        "data_dir = './' # for colab\n",
        "\n",
        "# Get book paths\n",
        "files = sorted([i for i in os.listdir(data_dir) if not i.startswith('.')])\n",
        "files = [os.path.join(data_dir, i) for i in files]\n",
        "print(files)"
      ],
      "execution_count": 42,
      "outputs": [
        {
          "output_type": "stream",
          "text": [
            "['./Alice-in-Wonderland by Lewis Carroll.txt', './Crime-and-Punishment Dostoevsky.txt', './Mansfield-Park by Jane Austen.txt', './The-Adventures-of-Tom-Sawyer by Mark Twain.txt', './sample_data']\n"
          ],
          "name": "stdout"
        }
      ]
    },
    {
      "cell_type": "code",
      "metadata": {
        "id": "8ZVlAl1irfRC",
        "colab_type": "code",
        "outputId": "89f6ead0-0032-4727-8b7f-cf91b8bbafe7",
        "colab": {
          "base_uri": "https://localhost:8080/",
          "height": 54
        }
      },
      "source": [
        "# set names manually based on the order of the files\n",
        "files_dict = dict(zip(['alice','crime','mansfield','sawyer'], files))\n",
        "print(files_dict)"
      ],
      "execution_count": 43,
      "outputs": [
        {
          "output_type": "stream",
          "text": [
            "{'alice': './Alice-in-Wonderland by Lewis Carroll.txt', 'crime': './Crime-and-Punishment Dostoevsky.txt', 'mansfield': './Mansfield-Park by Jane Austen.txt', 'sawyer': './The-Adventures-of-Tom-Sawyer by Mark Twain.txt'}\n"
          ],
          "name": "stdout"
        }
      ]
    },
    {
      "cell_type": "code",
      "metadata": {
        "id": "IUE8v5jSrfRH",
        "colab_type": "code",
        "outputId": "dc4b7755-16ef-4b60-cd9b-0aa4b07a4851",
        "colab": {
          "base_uri": "https://localhost:8080/",
          "height": 6817
        }
      },
      "source": [
        "# load each book text strings into a dict\n",
        "books = {}\n",
        "for name, path in files_dict.items():\n",
        "  with open(path, \"rt\") as file:\n",
        "    books[name] = file.readlines()\n",
        "    books[name] = [i for i in books[name] if i != '\\n']\n",
        "     \n",
        "books['alice'][:400]"
      ],
      "execution_count": 44,
      "outputs": [
        {
          "output_type": "execute_result",
          "data": {
            "text/plain": [
              "['\\ufeffThe Project Gutenberg EBook of Alice in Wonderland, by J.C. Gorham\\n',\n",
              " 'This eBook is for the use of anyone anywhere at no cost and with\\n',\n",
              " 'almost no restrictions whatsoever.  You may copy it, give it away or\\n',\n",
              " 're-use it under the terms of the Project Gutenberg License included\\n',\n",
              " 'with this eBook or online at www.gutenberg.org\\n',\n",
              " 'Title: Alice in Wonderland\\n',\n",
              " '       Retold in Words of One Syllable\\n',\n",
              " 'Author: J.C. Gorham\\n',\n",
              " 'Release Date: October 16, 2006 [EBook #19551]\\n',\n",
              " 'Language: English\\n',\n",
              " '*** START OF THIS PROJECT GUTENBERG EBOOK ALICE IN WONDERLAND ***\\n',\n",
              " 'Produced by Chuck Greif, Jason Isbell and The Online\\n',\n",
              " 'Distributed Proofreading Team at http://www.pgdp.net\\n',\n",
              " '[Illustration]\\n',\n",
              " \"ALICE'S ADVENTURES IN WONDERLAND\\n\",\n",
              " 'RETOLD IN WORDS OF ONE SYLLABLE\\n',\n",
              " 'By MRS. J.C. GORHAM\\n',\n",
              " '_FULLY ILLUSTRATED_\\n',\n",
              " 'A.L. BURT COMPANY\\n',\n",
              " 'PUBLISHERS, NEW YORK\\n',\n",
              " 'COPYRIGHT 1905\\n',\n",
              " '       *       *       *       *       *\\n',\n",
              " 'CONTENTS.\\n',\n",
              " 'CHAPTER I.\\n',\n",
              " 'DOWN THE RABBIT HOLE\\n',\n",
              " 'CHAPTER II.\\n',\n",
              " 'THE POOL OF TEARS\\n',\n",
              " 'CHAPTER III.\\n',\n",
              " 'A RACE\\n',\n",
              " 'CHAPTER IV.\\n',\n",
              " 'THE RABBIT SENDS IN A BILL\\n',\n",
              " 'CHAPTER V.\\n',\n",
              " 'A CATERPILLAR TELLS ALICE WHAT TO DO\\n',\n",
              " 'CHAPTER VI.\\n',\n",
              " 'PIG AND PEPPER\\n',\n",
              " 'CHAPTER VII.\\n',\n",
              " 'A MAD TEA PARTY\\n',\n",
              " 'CHAPTER VIII.\\n',\n",
              " \"THE QUEEN'S CROQUET GROUND\\n\",\n",
              " 'CHAPTER IX.\\n',\n",
              " 'THE MOCK TURTLE\\n',\n",
              " 'CHAPTER X.\\n',\n",
              " 'THE LOBSTER DANCE\\n',\n",
              " 'CHAPTER XI.\\n',\n",
              " 'WHO STOLE THE TARTS?\\n',\n",
              " 'CHAPTER XII.\\n',\n",
              " 'ALICE ON THE STAND\\n',\n",
              " 'CHAPTER I.\\n',\n",
              " 'DOWN THE RAB-BIT HOLE.\\n',\n",
              " 'Al-ice had sat on the bank by her sis-ter till she was tired. Once or\\n',\n",
              " 'twice she had looked at the book her sis-ter held in her hand, but there\\n',\n",
              " 'were no pict-ures in it, \"and what is the use of a book,\" thought Alice,\\n',\n",
              " '\"with-out pict-ures?\" She asked her-self as well as she could, for the\\n',\n",
              " 'hot day made her feel quite dull, if it would be worth while to get up\\n',\n",
              " 'and pick some dai-sies to make a chain. Just then a white rab-bit with\\n',\n",
              " 'pink eyes ran close by her.\\n',\n",
              " '[Illustration]\\n',\n",
              " 'That was not such a strange thing, nor did Alice think it so much out of\\n',\n",
              " 'the way to hear the Rab-bit say, \"Oh dear! Oh, dear! I shall be late!\"\\n',\n",
              " 'But when the Rab-bit took a watch out of its pock-et, and looked at it\\n',\n",
              " 'and then ran on, Al-ice start-ed to her feet, for she knew that was the\\n',\n",
              " 'first time she had seen a Rab-bit with a watch. She jumped up and ran to\\n',\n",
              " 'get a look at it, and was just in time to see it pop down a large\\n',\n",
              " 'rab-bit hole near the hedge.\\n',\n",
              " 'As fast as she could go, Al-ice went down the hole af-ter it, and did\\n',\n",
              " 'not once stop to think how in the world she was to get out.\\n',\n",
              " 'The hole went straight on for some way and then turned down with a sharp\\n',\n",
              " 'bend, so sharp that Al-ice had no time to think to stop till she found\\n',\n",
              " 'her-self fall-ing in what seemed a deep well.\\n',\n",
              " 'She must not have moved fast, or the well must have been quite deep, for\\n',\n",
              " 'it took her a long time to go down, and as she went she had time to look\\n',\n",
              " 'at the strange things she passed. First she tried to look down and make\\n',\n",
              " 'out what was there, but it was too dark to see; then she looked at the\\n',\n",
              " 'sides of the well and saw that they were piled with book-shelves; here\\n',\n",
              " 'and there she saw maps hung on pegs. She took down a jar from one of the\\n',\n",
              " 'shelves as she passed. On it was the word _Jam_, but there was no jam in\\n',\n",
              " 'it, so she put it back on one of the shelves as she fell past it.\\n',\n",
              " '\"Well,\" thought Al-ice to her-self, \"af-ter such a fall as this, I shall\\n',\n",
              " \"not mind a fall down stairs at all. How brave they'll all think me at\\n\",\n",
              " 'home! Why, I wouldn\\'t say a thing if I fell off the top of the house.\"\\n',\n",
              " '(Which I dare say was quite true.)\\n',\n",
              " 'Down, down, down. Would the fall nev-er come to an end? \"I should like\\n',\n",
              " 'to know,\" she said, \"how far I have come by this time. Wouldn\\'t it be\\n',\n",
              " 'strange if I should fall right through the earth and come out where the\\n',\n",
              " 'folks walk with their feet up and their heads down?\"\\n',\n",
              " 'Down, down, down. \"Di-nah will miss me to-night,\" Al-ice went on.\\n',\n",
              " '(Di-nah was the cat.) \"I hope they\\'ll think to give her her milk at\\n',\n",
              " 'tea-time. Di-nah, my dear! I wish you were down here with me! There are\\n',\n",
              " \"no mice in the air, but you might catch a bat, and that's much like a\\n\",\n",
              " 'mouse, you know. But do cats eat bats?\" And here Al-ice must have gone\\n',\n",
              " 'to sleep, for she dreamed that she walked hand in hand with Di-nah, and\\n',\n",
              " 'just as she asked her, \"Now, Di-nah, tell me the truth, do you eat\\n',\n",
              " 'bats?\" all at once, thump! thump! down she came on a heap of sticks and\\n',\n",
              " 'dry leaves, and the long fall was o-ver.\\n',\n",
              " 'Al-ice was not a bit hurt, but at once jumped to her feet. She looked\\n',\n",
              " 'up, but all was dark there. At the end of a long hall in front of her\\n',\n",
              " 'the white rab-bit was still in sight. There was no time to be lost, so\\n',\n",
              " 'off Al-ice went like the wind, and was just in time to hear it say, \"Oh,\\n',\n",
              " 'my ears, how late it is!\" then it was out of sight. She found she was in\\n',\n",
              " 'a long hall with a low roof, from which hung a row of light-ed lamps.\\n',\n",
              " 'There were doors on all sides, but when Al-ice had been all round and\\n',\n",
              " 'tried each one, she found they were all locked. She walked back and\\n',\n",
              " 'forth and tried to think how she was to get out. At last she came to a\\n',\n",
              " \"stand made all of glass. On it was a ti-ny key of gold, and Al-ice's\\n\",\n",
              " 'first thought was that this might be a key to one of the doors of the\\n',\n",
              " 'hall, but when she had tried the key in each lock, she found the locks\\n',\n",
              " 'were too large or the key was too small--it did not fit one of them. But\\n',\n",
              " 'when she went round the hall once more she came to a low cur-tain which\\n',\n",
              " 'she had not seen at first, and when she drew this back she found a small\\n',\n",
              " 'door, not much more than a foot high; she tried the key in the lock, and\\n',\n",
              " 'to her great joy it fit-ted!\\n',\n",
              " '[Illustration]\\n',\n",
              " 'Al-ice found that the door led to a hall the size of a rat hole; she\\n',\n",
              " 'knelt down and looked through it in-to a gar-den of gay flow-ers. How\\n',\n",
              " 'she longed to get out of that dark hall and near those bright blooms;\\n',\n",
              " 'but she could not so much as get her head through the door; \"and if my\\n',\n",
              " 'head would go through,\" thought Al-ice, \"it would be of no use, for the\\n',\n",
              " 'rest of me would still be too large to go through. Oh, how I wish I\\n',\n",
              " 'could shut up small! I think I could if I knew how to start.\"\\n',\n",
              " 'There seemed to be no use to wait by the small door, so she went back to\\n',\n",
              " 'the stand with the hope that she might find a key to one of the large\\n',\n",
              " 'doors, or may-be a book of rules that would teach her to grow small.\\n',\n",
              " 'This time she found a small bot-tle on it (\"which I am sure was not here\\n',\n",
              " 'just now,\" said Al-ice), and tied round the neck of the bot-tle was a\\n',\n",
              " 'tag with the words \"Drink me\" printed on it.\\n',\n",
              " 'It was all right to say \"Drink me,\" but Al-ice was too wise to do that\\n',\n",
              " 'in haste: \"No, I\\'ll look first,\" she said, \"and see if it\\'s marked\\n',\n",
              " '\\'poi-son\\' or not,\" for she had been taught if you drink much from a\\n',\n",
              " \"bot-tle marked 'poi-son,' it is sure to make you sick. This had no such\\n\",\n",
              " 'mark on it, so she dared to taste it, and as she found it nice (it had,\\n',\n",
              " 'in fact, a taste of pie, ice-cream, roast fowl, and hot toast), she soon\\n',\n",
              " 'drank it off.\\n',\n",
              " '\"How strange I feel,\" said Al-ice. \"I am sure I am not so large as I\\n',\n",
              " 'was!\"\\n',\n",
              " 'And so it was; she was now not quite a foot high, and her face light-ed\\n',\n",
              " 'up at the thought that she was now the right size to go through the\\n',\n",
              " 'small door and get out to that love-ly gar-den.\\n',\n",
              " '[Illustration]\\n',\n",
              " 'Poor Al-ice! When she reached the door she found that she had left the\\n',\n",
              " 'key on the stand, and when she went back for it, she found she could by\\n',\n",
              " 'no means reach it. She could see it through the glass, and she tried her\\n',\n",
              " 'best to climb one of the legs of the stand, but it was too sleek, and\\n',\n",
              " 'when she was quite tired out, she sat down and cried.\\n',\n",
              " '\"Come, there\\'s no use to cry like that!\" Al-ice said to her-self as\\n',\n",
              " 'stern as she could speak. \"I tell you to leave off at once!\"\\n',\n",
              " 'Soon her eyes fell on a small glass box that lay on the floor. She\\n',\n",
              " 'looked in it and found a tiny cake on which were the words \"Eat me,\"\\n',\n",
              " 'marked in grapes. \"Well, I\\'ll eat it,\" said Al-ice, \"and if it makes me\\n',\n",
              " 'grow tall, I can reach the key, and if it makes me shrink up, I can\\n',\n",
              " 'creep un-der the door; so I\\'ll get out some way.\"\\n',\n",
              " 'So she set to work and soon ate all the cake.\\n',\n",
              " 'CHAPTER II.\\n',\n",
              " 'THE POOL OF TEARS.\\n',\n",
              " '\"How strange! Oh my!\" said Al-ice, \"how tall I am, and all at once, too!\\n',\n",
              " 'Good-by, feet.\" (For when she looked down at her feet they seemed so far\\n',\n",
              " 'off, she thought they would soon be out of sight.) \"Oh, my poor feet,\\n',\n",
              " \"who will put on your shoes for you now, dears? I'm sure I shan't do it.\\n\",\n",
              " 'I shall be a great deal too far off to take care of you; you must get on\\n',\n",
              " 'the best way you can; but I must be kind to them,\" thought Al-ice, \"or\\n',\n",
              " \"they won't walk the way I want to go! Let me see: I'll give them a pair\\n\",\n",
              " 'of new shoes each, Christ-mas.\"\\n',\n",
              " 'She stopped to think how she would send them. \"They must go by the\\n',\n",
              " 'mail,\" she thought; \"and how fun-ny it\\'ll seem to send shoes to one\\'s\\n',\n",
              " 'own feet. How odd the ad-dress will look!\\n',\n",
              " \"    AL-ICE'S RIGHT FOOT, ESQ.,\\n\",\n",
              " '      Hearth-rug,\\n',\n",
              " '        Near the Fire.\\n',\n",
              " \"    (With Al-ice's love.)\\n\",\n",
              " '[Illustration]\\n',\n",
              " 'Oh dear, there\\'s no sense in all that.\"\\n',\n",
              " 'Just then her head struck the roof of the hall; in fact she was now more\\n',\n",
              " 'than nine feet high, and she at once took up the small key and went back\\n',\n",
              " 'to the door.\\n',\n",
              " 'Poor Al-ice! It was as much as she could do, when she lay down on one\\n',\n",
              " 'side, to look through to the gar-den with one eye: but to get through\\n',\n",
              " 'was not to be hoped for, so she sat down and had a good cry.\\n',\n",
              " '\"Shame on you,\" said Al-ice, \"a great big girl like you\" (she might well\\n',\n",
              " 'say this) \"to cry in this way! Stop at once, I tell you!\" But she went\\n',\n",
              " 'on all the same, and shed tears till there was a large pool all round\\n',\n",
              " 'her, and which reached half way down the hall.\\n',\n",
              " '[Illustration]\\n',\n",
              " 'At last she heard the sound of feet not far off, then she dried her eyes\\n',\n",
              " 'in great haste to see who it was. It was the White Rab-bit that had come\\n',\n",
              " 'back, dressed in fine clothes, with a pair of white kid gloves in one\\n',\n",
              " 'hand, and a large fan in the oth-er. He trot-ted on in great haste, and\\n',\n",
              " 'talked to him-self as he came, \"Oh! the Duch-ess, the Duch-ess! Oh!\\n',\n",
              " 'won\\'t she be in a fine rage if I\\'ve made her wait?\"\\n',\n",
              " 'Al-ice felt so bad and so in need of help from some one, that when the\\n',\n",
              " 'Rab-bit came near, she said in a low tim-id voice, \"If you please,\\n',\n",
              " 'sir--\" The Rab-bit started as if shot, dropped the white kid gloves and\\n',\n",
              " 'the fan and ran off in-to the dark as fast as his two hind feet could\\n',\n",
              " 'take him.\\n',\n",
              " 'Al-ice took up the fan and gloves and as the hall was quite hot, she\\n',\n",
              " 'fanned her-self all the time she went on talk-ing. \"Dear, dear! How\\n',\n",
              " 'queer all things are to-day! Could I have been changed in the night? Let\\n',\n",
              " \"me think: was I the same when I got up to-day? Seems to me I didn't feel\\n\",\n",
              " 'quite the same. But if I\\'m not the same, then who in the world am I?\"\\n',\n",
              " 'Then she thought of all the girls she knew that were of her age, to see\\n',\n",
              " 'if she could have been changed for one of them.\\n',\n",
              " '\"I\\'m sure I\\'m not A-da,\" she said, \"for her hair is in such long curls\\n',\n",
              " \"and mine doesn't curl at all; and I'm sure I can't be Ma-bel, for I know\\n\",\n",
              " \"all sorts of things, and she, oh! she knows such a lit-tle! Then, she's\\n\",\n",
              " \"she, and I'm I, and--oh dear, how strange it all is! I'll try if I know\\n\",\n",
              " 'all the things I used to know. Let me see: four times five is twelve,\\n',\n",
              " 'and four times six is thir-teen, and four times sev-en is--oh dear! that\\n',\n",
              " \"is not right. I must have been changed for Ma-bel! I'll try if I know\\n\",\n",
              " '\\'How doth the lit-tle--\\'\" and she placed her hands on her lap, as if\\n',\n",
              " 'she were at school and tried to say it, but her voice was hoarse and\\n',\n",
              " 'strange and the words did not come the same as they used to do.\\n',\n",
              " '\"I\\'m sure those are not the right words,\" said poor Al-ice, and her eyes\\n',\n",
              " 'filled with tears as she went on, \"I must be Ma-bel af-ter all, and I\\n',\n",
              " 'shall have to go and live in that po-ky house and have next to no toys\\n',\n",
              " \"to play with, and oh! such hard things to learn. No, I've made up my\\n\",\n",
              " \"mind; if I'm Ma-bel, I'll stay down here! It'll be no use for them to\\n\",\n",
              " \"put their heads down and say, 'Come up, dear!' I shall look up and say,\\n\",\n",
              " \"'Who am I, then? Tell me that first, and then if I like it, I'll come\\n\",\n",
              " 'up; if not, I\\'ll stay down here till I\\'m some one else\\'--but, oh dear,\"\\n',\n",
              " 'cried Al-ice with a fresh burst of tears, \"I do wish they would put their\\n',\n",
              " 'heads down! I am so tired of this place!\"\\n',\n",
              " 'As she said this she looked down at her hands and saw that she had put\\n',\n",
              " 'on one of the Rab-bit\\'s white kid gloves while she was talk-ing. \"How\\n',\n",
              " 'can I have done that?\" she thought. \"I must have grown small once more.\"\\n',\n",
              " 'She got up and went to the glass stand to test her height by that, and\\n',\n",
              " 'found that as well as she could guess she was now not more than two feet\\n',\n",
              " 'high, and still shrink-ing quite fast. She soon found out that the cause\\n',\n",
              " 'of this, was the fan she held and she dropped it at once, or she might\\n',\n",
              " 'have shrunk to the size of a gnat.\\n',\n",
              " 'Al-ice was, at first, in a sad fright at the quick change, but glad that\\n',\n",
              " 'it was no worse. \"Now for the gar-den,\" and she ran with all her speed\\n',\n",
              " 'back to the small door; but, oh dear! the door was shut, and the key lay\\n',\n",
              " 'on the glass stand, \"and things are worse than ev-er,\" thought the poor\\n',\n",
              " 'child, \"for I nev-er was so small as this, nev-er! It\\'s too bad, that it\\n',\n",
              " 'is!\"\\n',\n",
              " 'As she said these words her foot slipped, and splash! she was up to her\\n',\n",
              " 'chin in salt wa-ter. At first she thought she must be in the sea, but\\n',\n",
              " 'she soon made out that she was in the pool of tears which she had wept\\n',\n",
              " 'when she was nine feet high.\\n',\n",
              " '[Illustration]\\n',\n",
              " '\"I wish I hadn\\'t cried so much!\" said Al-ice as she swam round and tried\\n',\n",
              " 'to find her way out. \"I shall now be drowned in my own tears. That will\\n',\n",
              " 'be a queer thing, to be sure! But all things are queer to-day.\"\\n',\n",
              " 'Just then she heard a splash in the pool a lit-tle way off, and she swam\\n',\n",
              " 'near to make out what it was; at first she thought it must be a whale,\\n',\n",
              " 'but when she thought how small she was now, she soon made out that it\\n',\n",
              " 'was a mouse that had slipped in the pond.\\n',\n",
              " '\"Would it be of an-y use now to speak to this mouse? All things are so\\n',\n",
              " 'out-of-way down here, I should think may-be it can talk, at least\\n',\n",
              " 'there\\'s no harm to try.\" So she said: \"O Mouse, do you know the way out\\n',\n",
              " 'of this pool? I have swum here till I\\'m quite tired, O Mouse!\" The Mouse\\n',\n",
              " 'looked at her and seemed to her to wink with one of its small eyes, but\\n',\n",
              " 'it did not speak.\\n',\n",
              " '\"It may be a French Mouse,\" thought Al-ice, so she said: \"Où est ma\\n',\n",
              " 'chatte?\" (Where is my cat?) which was all the French she could think of\\n',\n",
              " 'just then. The Mouse gave a quick leap out of the wa-ter, and seemed in\\n',\n",
              " 'a great fright, \"Oh, I beg your par-don,\" cried Al-ice. \"I quite for-got\\n',\n",
              " 'you didn\\'t like cats.\"\\n',\n",
              " '\"Not like cats!\" cried the Mouse in a shrill, harsh voice. \"Would you\\n',\n",
              " 'like cats if you were me?\"\\n',\n",
              " '\"Well, I guess not,\" said Al-ice, \"but please don\\'t get mad. And yet I\\n',\n",
              " \"wish I could show you our cat, Di-nah. I'm sure you'd like cats if you\\n\",\n",
              " 'could see her. She is such a dear thing,\" Al-ice went on half to\\n',\n",
              " 'her-self as she swam round in the pool, \"and she sits and purrs by the\\n',\n",
              " 'fire and licks her paws and wash-es her face--and she is such a nice\\n',\n",
              " 'soft thing to nurse--and she\\'s a fine one to catch mice--Oh, dear!\"\\n',\n",
              " 'cried Al-ice, for this time the Mouse was in a great fright and each\\n',\n",
              " 'hair stood on end. \"We won\\'t talk of her if you don\\'t like it.\"\\n',\n",
              " '\"We talk!\" cried the Mouse, who shook down to the end of his tail. \"As\\n',\n",
              " 'if _I_ would talk of such low, mean things as cats! All rats hate them.\\n',\n",
              " 'Don\\'t let me hear the name a-gain!\"\\n',\n",
              " '\"I won\\'t,\" said Al-ice, in great haste to change the theme. \"Are you\\n',\n",
              " 'fond--of--of dogs?\" The mouse did not speak, so Al-ice went on: \"There\\n',\n",
              " 'is such a nice dog near our house, I should like to show you! A ti-ny\\n',\n",
              " 'bright-eyed dog, you know, with oh! such long cur-ly brown hair! And\\n',\n",
              " \"it'll fetch things when you throw them, and it'll sit up and beg for its\\n\",\n",
              " \"meat and do all sorts of things--I can't tell you half of them. And it\\n\",\n",
              " 'kills all the rats, and m--oh dear!\" cried Al-ice in a sad tone, \"I\\'ve\\n',\n",
              " 'made it mad a-gain!\" For the Mouse swam off from her as fast as it could\\n',\n",
              " 'go, and made quite a stir in the pool as it went.\\n',\n",
              " 'So she called it in a soft, kind voice, \"Mouse dear! Do come back and we\\n',\n",
              " 'won\\'t talk of cats or dogs if you don\\'t like them!\" When the Mouse heard\\n',\n",
              " 'this it turned round and swam back to her; its face was quite pale (with\\n',\n",
              " 'rage, Al-ice thought), and it said in a low, weak voice, \"Let us get to\\n',\n",
              " 'the shore, and then I\\'ll tell you why it is I hate cats and dogs.\"\\n',\n",
              " 'It was high time to go, for the pool was by this time quite crowded with\\n',\n",
              " 'the birds and beasts that had slipped in-to it. Al-ice led the way and\\n',\n",
              " 'they all swam to the shore.\\n',\n",
              " 'CHAPTER III.\\n',\n",
              " 'A RACE.\\n',\n",
              " 'They were a queer look-ing crowd as they stood or sat on the bank--the\\n',\n",
              " 'wings and tails of the birds drooped to the earth; the fur of the beasts\\n',\n",
              " 'clung close to them, and all were as wet and cross as could be.\\n',\n",
              " '[Illustration]\\n',\n",
              " 'The first thought, of course, was how to get dry. They had a long talk\\n',\n",
              " 'a-bout this, and Al-ice joined with, them as if she had known them all\\n',\n",
              " 'her life. But it was hard to tell what was best.\\n',\n",
              " '\"What I want to say,\" at last spoke up the Do-do, \"is that the best\\n',\n",
              " 'thing to get us dry would be a race.\"\\n',\n",
              " '\"What kind of race?\" asked Al-ice, not that she much want-ed to know,\\n',\n",
              " 'but the Do-do had paused as if it thought that some one ought to speak,\\n',\n",
              " 'and no one else would say a word. \"Why,\" said the Do-do, \"the best way\\n',\n",
              " 'to make it plain is to do it.\" (And as you might like to try the thing\\n',\n",
              " \"some cold day, I'll tell you how the Do-do did it.)\\n\",\n",
              " \"First it marked out a race-course in a sort of ring (it didn't care much\\n\",\n",
              " 'for the shape), and then all the crowd were placed on the course, here\\n',\n",
              " 'and there. There was no \"One, two, three, and here we go,\" but they ran\\n',\n",
              " 'when they liked and left off when they liked, so that no one could tell\\n',\n",
              " 'when the race was ended. When they had been running half an hour or so\\n',\n",
              " 'and were all quite dry, the Do-do called out, \"The race is o-ver!\" and\\n',\n",
              " 'they all crow-ded round it and and asked, \"But who has won?\"\\n',\n",
              " 'This the Do-do could not, at first, tell, but sat for a long time with\\n',\n",
              " 'one claw pressed to its head while the rest wait-ed, but did not speak.\\n',\n",
              " 'At last the Do-do said, \"All have won and each must have a prize.\"\\n',\n",
              " '\"But who is to give them?\" all asked at once.\\n',\n",
              " '\"Why, she of course,\" said the Do-do, as it point-ed to Al-ice with one\\n',\n",
              " 'long claw; and the whole par-ty at once crowd-ed round her as they\\n',\n",
              " 'called out, \"A prize, a prize!\"\\n',\n",
              " 'Al-ice did not know what to do, but she pulled from her pock-et a box of\\n',\n",
              " 'lit-tle cakes (by a strange, good luck they did not get wet while she\\n',\n",
              " 'was in the pool) and hand-ed them round as priz-es. There was one\\n',\n",
              " 'a-piece all round.\\n',\n",
              " '\"But she must have a prize, you know,\" said the Mouse.\\n',\n",
              " '\"Of course,\" the Do-do said. \"What else have you got?\" he went on as he\\n',\n",
              " 'turned to Al-ice.\\n',\n",
              " '\"A thim-ble,\" said Al-ice looking quite sad.\\n',\n",
              " '\"Hand it here,\" said the Do-do.\\n',\n",
              " 'Then they all crowd-ed round her once more, while the Do-do hand-ed the\\n',\n",
              " 'thim-ble back to Al-ice and said, \"We beg that you accept this fine\\n',\n",
              " 'thim-ble;\" and when it had made this short speech they all cheered.\\n',\n",
              " 'Al-ice thought the whole thing quite fool-ish, but they all looked so\\n',\n",
              " 'grave that she did not dare to laugh, and as she could not think what to\\n',\n",
              " 'say she bowed and took the thim-ble, while she looked as staid as she\\n',\n",
              " 'could.\\n',\n",
              " '[Illustration]\\n',\n",
              " 'The next thing was to eat the cakes: this caused some noise, as the\\n',\n",
              " 'large birds said they could not taste theirs, and the small ones choked\\n',\n",
              " 'and had to be pat-ted on the back. It was o-ver at last and they sat\\n',\n",
              " 'down in a ring and begged the Mouse to tell them a tale.\\n',\n",
              " '\"You said you would tell us why you hate cats and dogs,\" said Al-ice.\\n',\n",
              " '\"Mine is a long and a sad tale,\" said the Mouse, as it turned to Al-ice\\n',\n",
              " 'with a sigh.\\n',\n",
              " '\"It is a long tail, I\\'m sure,\" said Al-ice, look-ing down at the Mouse\\'s\\n',\n",
              " 'tail; \"but why do you call it sad?\"\\n',\n",
              " '\"I shall not tell you,\" said the Mouse, as it got up and walked off.\\n',\n",
              " '\"Please come back and tell us your tale,\" called Al-ice; and all joined\\n',\n",
              " 'in, \"Yes, please do!\" but the Mouse shook its head and walked on and was\\n',\n",
              " 'soon out of sight.\\n',\n",
              " '\"I wish I had our Di-nah here, I know I do!\" said Al-ice. \"She\\'d soon\\n',\n",
              " 'fetch it back.\"\\n',\n",
              " '\"And who is Di-nah, if I may dare to ask such a thing?\" said one of the\\n',\n",
              " 'birds.\\n',\n",
              " 'Al-ice was glad to talk of her pet. \"Di-nah\\'s our cat; and she\\'s such a\\n',\n",
              " \"fine one to catch mice, you can't think. And oh, I wish you could see\\n\",\n",
              " 'her chase a bird! Why she\\'ll eat a bird as soon as look at it!\"\\n',\n",
              " 'This speech caused a great stir in the par-ty. Some of the birds rushed\\n',\n",
              " 'off at once; one old jay wrapped it-self up with care and said, \"I must\\n',\n",
              " 'get home; the night air doesn\\'t suit my throat!\" and a wren called out\\n',\n",
              " 'to her brood, \"come, my dears! It\\'s high time you were all in bed.\"\\n',\n",
              " 'Soon they all moved off and Al-ice was left a-lone.\\n',\n",
              " '\"I wish I hadn\\'t told them of Di-nah,\" she said to her-self. \"No one\\n',\n",
              " \"seems to like her down here, and I'm sure she's the best cat in the\\n\",\n",
              " 'world! Oh, my dear Di-nah! Shall I ev-er see you an-y more?\" And here\\n',\n",
              " 'poor Al-ice burst in-to tears, for she felt ver-y sad and lone-ly. In a\\n',\n",
              " 'short time she heard the pat-ter of feet, and she looked up with the\\n',\n",
              " 'hope that the Mouse had changed its mind and come back to tell his \"long\\n',\n",
              " 'and sad tale.\"\\n',\n",
              " 'CHAPTER IV.\\n',\n",
              " 'THE RAB-BIT SENDS IN A BILL.\\n',\n",
              " 'It was the White Rab-bit who trot-ted back a-gain. It looked from side\\n',\n",
              " 'to side as it went as if it had lost some-thing; and Al-ice heard it say\\n',\n",
              " 'to it-self, \"The Duch-ess! The Duch-ess! Oh, my dear paws! She\\'ll get my\\n',\n",
              " 'head cut off as sure as rats are rats! Where can I have lost them!\"\\n',\n",
              " 'Al-ice guessed at once that he was in search of the fan and the pair of\\n',\n",
              " 'white kid gloves, and like the good girl that she was, she set out to\\n',\n",
              " 'hunt for them, but they were not to be found. All things seemed to have\\n',\n",
              " 'changed since her swim in the pool; the great hall with the glass stand\\n',\n",
              " 'and the lit-tle door--all were gone. Soon the Rab-bit saw Al-ice and\\n',\n",
              " 'called out to her, \"Why, Ann, what are you out here for? Run home at\\n',\n",
              " 'once, and fetch me a pair of gloves and a fan! Quick, now!\" And Al-ice\\n',\n",
              " 'was in such a fright that she ran off and did not wait to tell it who\\n',\n",
              " 'she was.\\n',\n",
              " '\"He took me for his house-maid,\" she said to her-self as she ran. \"What\\n',\n",
              " 'will he think when he finds out who I am! But I must take him his fan\\n',\n",
              " 'and gloves--that is if I can find them.\"\\n',\n",
              " 'As she said this she came to a small neat house on the door of which was\\n',\n",
              " 'a bright brass plate with the name W. Rab-bit on it. She ran up-stairs\\n',\n",
              " 'in great fear lest she should meet Ann and be turned out of the house\\n',\n",
              " 'be-fore she had found the fan and gloves.\\n',\n",
              " '\"How queer it seems that I should do things for a Rab-bit! I guess\\n',\n",
              " 'Di-nah\\'ll send me to wait on her next!\"\\n',\n",
              " '[Illustration]\\n',\n",
              " 'By this time she had made her way to a ti-dy room with a ta-ble near the\\n',\n",
              " 'wall, and on it, as she had hoped, a fan and two or three pairs of small\\n',\n",
              " 'white kid gloves. She took up the fan and a pair of gloves, and turned\\n',\n",
              " 'to leave the room, when her eye fell up-on a small bot-tle that stood\\n',\n",
              " 'near. There was no tag this time with the words \"Drink me,\" but Al-ice\\n',\n",
              " 'put it to her lips. \"I know I am sure to change in some way, if I eat or\\n',\n",
              " \"drink any-thing; so I'll just see what this does. I do hope it'll make\\n\",\n",
              " 'me grow large a-gain, for I\\'m quite tired of this size,\" Al-ice said to\\n',\n",
              " 'her-self.\\n',\n",
              " 'It did as she had wished, for in a short time her head pressed the roof\\n']"
            ]
          },
          "metadata": {
            "tags": []
          },
          "execution_count": 44
        }
      ]
    },
    {
      "cell_type": "code",
      "metadata": {
        "id": "ToGoGbnPrfRL",
        "colab_type": "code",
        "outputId": "85eb483d-47b7-4152-8358-f78389166442",
        "colab": {
          "base_uri": "https://localhost:8080/",
          "height": 3539
        }
      },
      "source": [
        "# Cut first 300 and last 750 lines to avoid front and back matter\n",
        "for i in books.keys():\n",
        "  books[i] = books[i][300:-750]\n",
        "books['sawyer'][:100] + ['... BREAK ...']*6 + books['sawyer'][-100:]"
      ],
      "execution_count": 45,
      "outputs": [
        {
          "output_type": "execute_result",
          "data": {
            "text/plain": [
              "['The switch hovered in the air—the peril was desperate—\\n',\n",
              " '“My! Look behind you, aunt!”\\n',\n",
              " 'The old lady whirled round, and snatched her skirts out of danger. The lad fled on the instant, scrambled up the high board-fence, and disappeared over it.\\n',\n",
              " '01-018.jpg (54K)\\n',\n",
              " 'His aunt Polly stood surprised a moment, and then broke into a gentle laugh.\\n',\n",
              " '“Hang the boy, can’t I never learn anything? Ain’t he played me tricks enough like that for me to be looking out for him by this time? But old fools is the biggest fools there is. Can’t learn an old dog new tricks, as the saying is. But my goodness, he never plays them alike, two days, and how is a body to know what’s coming? He ’pears to know just how long he can torment me before I get my dander up, and he knows if he can make out to put me off for a minute or make me laugh, it’s all down again and I can’t hit him a lick. I ain’t doing my duty by that boy, and that’s the Lord’s truth, goodness knows. Spare the rod and spile the child, as the Good Book says. I’m a laying up sin and suffering for us both, I know. He’s full of the Old Scratch, but laws-a-me! he’s my own dead sister’s boy, poor thing, and I ain’t got the heart to lash him, somehow. Every time I let him off, my conscience does hurt me so, and every time I hit him my old heart most breaks. Well-a-well, man that is born of woman is of few days and full of trouble, as the Scripture says, and I reckon it’s so. He’ll play hookey this evening, * and [* Southwestern for “afternoon”] I’ll just be obleeged to make him work, tomorrow, to punish him. It’s mighty hard to make him work Saturdays, when all the boys is having holiday, but he hates work more than he hates anything else, and I’ve got to do some of my duty by him, or I’ll be the ruination of the child.”\\n',\n",
              " 'Tom did play hookey, and he had a very good time. He got back home barely in season to help Jim, the small colored boy, saw next-day’s wood and split the kindlings before supper—at least he was there in time to tell his adventures to Jim while Jim did three-fourths of the work. Tom’s younger brother (or rather half-brother) Sid was already through with his part of the work (picking up chips), for he was a quiet boy, and had no adventurous, trouble-some ways.\\n',\n",
              " '01-019.jpg (48K)\\n',\n",
              " 'While Tom was eating his supper, and stealing sugar as opportunity offered, Aunt Polly asked him questions that were full of guile, and very deep—for she wanted to trap him into damaging revealments. Like many other simple-hearted souls, it was her pet vanity to believe she was endowed with a talent for dark and mysterious diplomacy, and she loved to contemplate her most transparent devices as marvels of low cunning. Said she:\\n',\n",
              " '“Tom, it was middling warm in school, warn’t it?”\\n',\n",
              " '“Yes’m.”\\n',\n",
              " '“Powerful warm, warn’t it?”\\n',\n",
              " '“Yes’m.”\\n',\n",
              " '“Didn’t you want to go in a-swimming, Tom?”\\n',\n",
              " 'A bit of a scare shot through Tom—a touch of uncomfortable suspicion. He searched Aunt Polly’s face, but it told him nothing. So he said:\\n',\n",
              " '“No’m—well, not very much.”\\n',\n",
              " 'The old lady reached out her hand and felt Tom’s shirt, and said:\\n',\n",
              " '“But you ain’t too warm now, though.” And it flattered her to reflect that she had discovered that the shirt was dry without anybody knowing that that was what she had in her mind. But in spite of her, Tom knew where the wind lay, now. So he forestalled what might be the next move:\\n',\n",
              " '“Some of us pumped on our heads—mine’s damp yet. See?”\\n',\n",
              " 'Aunt Polly was vexed to think she had overlooked that bit of circumstantial evidence, and missed a trick. Then she had a new inspiration:\\n',\n",
              " '“Tom, you didn’t have to undo your shirt collar where I sewed it, to pump on your head, did you? Unbutton your jacket!”\\n',\n",
              " 'The trouble vanished out of Tom’s face. He opened his jacket. His shirt collar was securely sewed.\\n',\n",
              " '“Bother! Well, go ’long with you. I’d made sure you’d played hookey and been a-swimming. But I forgive ye, Tom. I reckon you’re a kind of a singed cat, as the saying is—better’n you look. This time.”\\n',\n",
              " 'She was half sorry her sagacity had miscarried, and half glad that Tom had stumbled into obedient conduct for once.\\n',\n",
              " 'But Sidney said:\\n',\n",
              " '“Well, now, if I didn’t think you sewed his collar with white thread, but it’s black.”\\n',\n",
              " '“Why, I did sew it with white! Tom!”\\n',\n",
              " 'But Tom did not wait for the rest. As he went out at the door he said:\\n',\n",
              " '“Siddy, I’ll lick you for that.”\\n',\n",
              " 'In a safe place Tom examined two large needles which were thrust into the lapels of his jacket, and had thread bound about them—one needle carried white thread and the other black. He said:\\n',\n",
              " '“She’d never noticed if it hadn’t been for Sid. Confound it! sometimes she sews it with white, and sometimes she sews it with black. I wish to gee-miny she’d stick to one or t’other—I can’t keep the run of ’em. But I bet you I’ll lam Sid for that. I’ll learn him!”\\n',\n",
              " 'He was not the Model Boy of the village. He knew the model boy very well though—and loathed him.\\n',\n",
              " 'Within two minutes, or even less, he had forgotten all his troubles. Not because his troubles were one whit less heavy and bitter to him than a man’s are to a man, but because a new and powerful interest bore them down and drove them out of his mind for the time—just as men’s misfortunes are forgotten in the excitement of new enterprises. This new interest was a valued novelty in whistling, which he had just acquired from a negro, and he was suffering to practise it un-disturbed. It consisted in a peculiar bird-like turn, a sort of liquid warble, produced by touching the tongue to the roof of the mouth at short intervals in the midst of the music—the reader probably remembers how to do it, if he has ever been a boy. Diligence and attention soon gave him the knack of it, and he strode down the street with his mouth full of harmony and his soul full of gratitude. He felt much as an astronomer feels who has discovered a new planet—no doubt, as far as strong, deep, unalloyed pleasure is concerned, the advantage was with the boy, not the astronomer.\\n',\n",
              " 'The summer evenings were long. It was not dark, yet. Presently Tom checked his whistle. A stranger was before him—a boy a shade larger than himself. A new-comer of any age or either sex was an im-pressive curiosity in the poor little shabby village of St. Petersburg. This boy was well dressed, too—well dressed on a week-day. This was simply astounding. His cap was a dainty thing, his close-buttoned blue cloth roundabout was new and natty, and so were his pantaloons. He had shoes on—and it was only Friday. He even wore a necktie, a bright bit of ribbon. He had a citified air about him that ate into Tom’s vitals. The more Tom stared at the splendid marvel, the higher he turned up his nose at his finery and the shabbier and shabbier his own outfit seemed to him to grow. Neither boy spoke. If one moved, the other moved—but only sidewise, in a circle; they kept face to face and eye to eye all the time. Finally Tom said:\\n',\n",
              " '“I can lick you!”\\n',\n",
              " '“I’d like to see you try it.”\\n',\n",
              " '“Well, I can do it.”\\n',\n",
              " '“No you can’t, either.”\\n',\n",
              " '“Yes I can.”\\n',\n",
              " '“No you can’t.”\\n',\n",
              " '“I can.”\\n',\n",
              " '“You can’t.”\\n',\n",
              " '“Can!”\\n',\n",
              " '“Can’t!”\\n',\n",
              " 'An uncomfortable pause. Then Tom said:\\n',\n",
              " '“What’s your name?”\\n',\n",
              " '“’Tisn’t any of your business, maybe.”\\n',\n",
              " '“Well I ’low I’ll make it my business.”\\n',\n",
              " '“Well why don’t you?”\\n',\n",
              " '“If you say much, I will.”\\n',\n",
              " '“Much—much—much. There now.”\\n',\n",
              " '“Oh, you think you’re mighty smart, don’t you? I could lick you with one hand tied behind me, if I wanted to.”\\n',\n",
              " '“Well why don’t you do it? You say you can do it.”\\n',\n",
              " '“Well I will, if you fool with me.”\\n',\n",
              " '“Oh yes—I’ve seen whole families in the same fix.”\\n',\n",
              " '“Smarty! You think you’re some, now, don’t you? Oh, what a hat!”\\n',\n",
              " '“You can lump that hat if you don’t like it. I dare you to knock it off—and anybody that’ll take a dare will suck eggs.”\\n',\n",
              " '“You’re a liar!”\\n',\n",
              " '“You’re another.”\\n',\n",
              " '“You’re a fighting liar and dasn’t take it up.”\\n',\n",
              " '“Aw—take a walk!”\\n',\n",
              " '“Say—if you give me much more of your sass I’ll take and bounce a rock off’n your head.”\\n',\n",
              " '“Oh, of course you will.”\\n',\n",
              " '“Well I will.”\\n',\n",
              " '“Well why don’t you do it then? What do you keep saying you will for? Why don’t you do it? It’s because you’re afraid.”\\n',\n",
              " '“I ain’t afraid.”\\n',\n",
              " '“You are.”\\n',\n",
              " '“I ain’t.”\\n',\n",
              " '“You are.”\\n',\n",
              " '01-023.jpg (55K)\\n',\n",
              " 'Another pause, and more eying and sidling around each other. Presently they were shoulder to shoulder. Tom said:\\n',\n",
              " '“Get away from here!”\\n',\n",
              " '“Go away yourself!”\\n',\n",
              " '“I won’t.”\\n',\n",
              " '“I won’t either.”\\n',\n",
              " 'So they stood, each with a foot placed at an angle as a brace, and both shoving with might and main, and glowering at each other with hate. But neither could get an advantage. After struggling till both were hot and flushed, each relaxed his strain with watchful caution, and Tom said:\\n',\n",
              " '“You’re a coward and a pup. I’ll tell my big brother on you, and he can thrash you with his little finger, and I’ll make him do it, too.”\\n',\n",
              " '“What do I care for your big brother? I’ve got a brother that’s bigger than he is—and what’s more, he can throw him over that fence, too.” [Both brothers were imaginary.]\\n',\n",
              " '“That’s a lie.”\\n',\n",
              " '“Your saying so don’t make it so.”\\n',\n",
              " 'Tom drew a line in the dust with his big toe, and said:\\n',\n",
              " '“I dare you to step over that, and I’ll lick you till you can’t stand up. Anybody that’ll take a dare will steal sheep.”\\n',\n",
              " 'The new boy stepped over promptly, and said:\\n',\n",
              " '“Now you said you’d do it, now let’s see you do it.”\\n',\n",
              " '“Don’t you crowd me now; you better look out.”\\n',\n",
              " '“Well, you said you’d do it—why don’t you do it?”\\n',\n",
              " '“By jingo! for two cents I will do it.”\\n',\n",
              " 'The new boy took two broad coppers out of his pocket and held them out with derision. Tom struck them to the ground. In an instant both boys were rolling and tumbling in the dirt, gripped together like cats; and for the space of a minute they tugged and tore at each other’s hair and clothes, punched and scratched each other’s nose, and covered themselves with dust and glory. Presently the confusion took form, and through the fog of battle Tom appeared, seated astride the new boy, and pounding him with his fists. “Holler ’nuff!” said he.\\n',\n",
              " 'The boy only struggled to free himself. He was crying—mainly from rage.\\n',\n",
              " '“Holler ’nuff!”—and the pounding went on.\\n',\n",
              " 'At last the stranger got out a smothered “’Nuff!” and Tom let him up and said:\\n',\n",
              " '“Now that’ll learn you. Better look out who you’re fooling with next time.”\\n',\n",
              " 'The new boy went off brushing the dust from his clothes, sobbing, snuffling, and occasionally looking back and shaking his head and threatening what he would do to Tom the “next time he caught him out.” To which Tom responded with jeers, and started off in high feather, and as soon as his back was turned the new boy snatched up a stone, threw it and hit him between the shoulders and then turned tail and ran like an antelope. Tom chased the traitor home, and thus found out where he lived. He then held a position at the gate for some time, daring the enemy to come outside, but the enemy only made faces at him through the window and declined. At last the enemy’s mother appeared, and called Tom a bad, vicious, vulgar child, and ordered him away. So he went away; but he said he “’lowed” to “lay” for that boy.\\n',\n",
              " '01-025.jpg (55K)\\n',\n",
              " 'He got home pretty late that night, and when he climbed cautiously in at the window, he uncovered an ambuscade, in the person of his aunt; and when she saw the state his clothes were in her resolution to turn his Saturday holiday into captivity at hard labor became adamantine in its firmness.\\n',\n",
              " 'CHAPTER II\\n',\n",
              " '02-026.jpg (202K)\\n',\n",
              " 'SATURDAY morning was come, and all the summer world was bright and fresh, and brimming with life. There was a song in every heart; and if the heart was young the music issued at the lips. There was cheer in every face and a spring in every step. The locust-trees were in bloom and the fragrance of the blossoms filled the air. Cardiff Hill, beyond the village and above it, was green with vegetation and it lay just far enough away to seem a Delectable Land, dreamy, reposeful, and inviting.\\n',\n",
              " 'Tom appeared on the sidewalk with a bucket of whitewash and a long-handled brush. He surveyed the fence, and all gladness left him and a deep melancholy settled down upon his spirit. Thirty yards of board fence nine feet high. Life to him seemed hollow, and existence but a burden. Sighing, he dipped his brush and passed it along the topmost plank; repeated the operation; did it again; compared the insignificant whitewashed streak with the far-reaching continent of unwhitewashed fence, and sat down on a tree-box discouraged. Jim came skipping out at the gate with a tin pail, and singing Buffalo Gals. Bringing water from the town pump had always been hateful work in Tom’s eyes, before, but now it did not strike him so. He remembered that there was company at the pump. White, mulatto, and negro boys and girls were always there waiting their turns, resting, trading playthings, quarrelling, fighting, skylarking. And he remembered that although the pump was only a hundred and fifty yards off, Jim never got back with a bucket of water under an hour—and even then somebody generally had to go after him. Tom said:\\n',\n",
              " '“Say, Jim, I’ll fetch the water if you’ll whitewash some.”\\n',\n",
              " '... BREAK ...',\n",
              " '... BREAK ...',\n",
              " '... BREAK ...',\n",
              " '... BREAK ...',\n",
              " '... BREAK ...',\n",
              " '... BREAK ...',\n",
              " '“Look here, lad—you go back up the river where you belong. Wait there till you hear from me. I’ll take the chances on dropping into this town just once more, for a look. We’ll do that ‘dangerous’ job after I’ve spied around a little and think things look well for it. Then for Texas! We’ll leg it together!”\\n',\n",
              " 'This was satisfactory. Both men presently fell to yawning, and Injun Joe said:\\n',\n",
              " '“I’m dead for sleep! It’s your turn to watch.”\\n',\n",
              " 'He curled down in the weeds and soon began to snore. His comrade stirred him once or twice and he became quiet. Presently the watcher began to nod; his head drooped lower and lower, both men began to snore now.\\n',\n",
              " 'The boys drew a long, grateful breath. Tom whispered:\\n',\n",
              " '“Now’s our chance—come!”\\n',\n",
              " 'Huck said:\\n',\n",
              " '“I can’t—I’d die if they was to wake.”\\n',\n",
              " 'Tom urged—Huck held back. At last Tom rose slowly and softly, and started alone. But the first step he made wrung such a hideous creak from the crazy floor that he sank down almost dead with fright. He never made a second attempt. The boys lay there counting the dragging moments till it seemed to them that time must be done and eternity growing gray; and then they were grateful to note that at last the sun was setting.\\n',\n",
              " 'Now one snore ceased. Injun Joe sat up, stared around—smiled grimly upon his comrade, whose head was drooping upon his knees—stirred him up with his foot and said:\\n',\n",
              " '“Here! You’re a watchman, ain’t you! All right, though—nothing’s happened.”\\n',\n",
              " '“My! have I been asleep?”\\n',\n",
              " '“Oh, partly, partly. Nearly time for us to be moving, pard. What’ll we do with what little swag we’ve got left?”\\n',\n",
              " '“I don’t know—leave it here as we’ve always done, I reckon. No use to take it away till we start south. Six hundred and fifty in silver’s something to carry.”\\n',\n",
              " '“Well—all right—it won’t matter to come here once more.”\\n',\n",
              " '“No—but I’d say come in the night as we used to do—it’s better.”\\n',\n",
              " '“Yes: but look here; it may be a good while before I get the right chance at that job; accidents might happen; ’tain’t in such a very good place; we’ll just regularly bury it—and bury it deep.”\\n',\n",
              " '“Good idea,” said the comrade, who walked across the room, knelt down, raised one of the rearward hearth-stones and took out a bag that jingled pleasantly. He subtracted from it twenty or thirty dollars for himself and as much for Injun Joe, and passed the bag to the latter, who was on his knees in the corner, now, digging with his bowie-knife.\\n',\n",
              " 'The boys forgot all their fears, all their miseries in an instant. With gloating eyes they watched every movement. Luck!—the splendor of it was beyond all imagination! Six hundred dollars was money enough to make half a dozen boys rich! Here was treasure-hunting under the happiest auspices—there would not be any bothersome uncertainty as to where to dig. They nudged each other every moment—eloquent nudges and easily understood, for they simply meant—“Oh, but ain’t you glad now we’re here!”\\n',\n",
              " 'Joe’s knife struck upon something.\\n',\n",
              " '“Hello!” said he.\\n',\n",
              " '“What is it?” said his comrade.\\n',\n",
              " '“Half-rotten plank—no, it’s a box, I believe. Here—bear a hand and we’ll see what it’s here for. Never mind, I’ve broke a hole.”\\n',\n",
              " 'He reached his hand in and drew it out—\\n',\n",
              " '“Man, it’s money!”\\n',\n",
              " 'The two men examined the handful of coins. They were gold. The boys above were as excited as themselves, and as delighted.\\n',\n",
              " 'Joe’s comrade said:\\n',\n",
              " '“We’ll make quick work of this. There’s an old rusty pick over amongst the weeds in the corner the other side of the fireplace—I saw it a minute ago.”\\n',\n",
              " 'He ran and brought the boys’ pick and shovel. Injun Joe took the pick, looked it over critically, shook his head, muttered something to himself, and then began to use it. The box was soon unearthed. It was not very large; it was iron bound and had been very strong before the slow years had injured it. The men contemplated the treasure awhile in blissful silence.\\n',\n",
              " '“Pard, there’s thousands of dollars here,” said Injun Joe.\\n',\n",
              " '26-205.jpg (106K)\\n',\n",
              " '“’Twas always said that Murrel’s gang used to be around here one summer,” the stranger observed.\\n',\n",
              " '“I know it,” said Injun Joe; “and this looks like it, I should say.”\\n',\n",
              " '“Now you won’t need to do that job.”\\n',\n",
              " 'The halfbreed frowned. Said he:\\n',\n",
              " '“You don’t know me. Least you don’t know all about that thing. ’Tain’t robbery altogether—it’s revenge!” and a wicked light flamed in his eyes. “I’ll need your help in it. When it’s finished—then Texas. Go home to your Nance and your kids, and stand by till you hear from me.”\\n',\n",
              " '“Well—if you say so; what’ll we do with this—bury it again?”\\n',\n",
              " '“Yes. [Ravishing delight overhead.] No! by the great Sachem, no! [Profound distress overhead.] I’d nearly forgot. That pick had fresh earth on it! [The boys were sick with terror in a moment.] What business has a pick and a shovel here? What business with fresh earth on them? Who brought them here—and where are they gone? Have you heard anybody?—seen anybody? What! bury it again and leave them to come and see the ground disturbed? Not exactly—not exactly. We’ll take it to my den.”\\n',\n",
              " '“Why, of course! Might have thought of that before. You mean Number One?”\\n',\n",
              " '“No—Number Two—under the cross. The other place is bad—too common.”\\n',\n",
              " '“All right. It’s nearly dark enough to start.”\\n',\n",
              " 'Injun Joe got up and went about from window to window cautiously peeping out. Presently he said:\\n',\n",
              " '“Who could have brought those tools here? Do you reckon they can be upstairs?”\\n',\n",
              " 'The boys’ breath forsook them. Injun Joe put his hand on his knife, halted a moment, undecided, and then turned toward the stairway. The boys thought of the closet, but their strength was gone. The steps came creaking up the stairs—the intolerable distress of the situation woke the stricken resolution of the lads—they were about to spring for the closet, when there was a crash of rotten timbers and Injun Joe landed on the ground amid the debris of the ruined stairway. He gathered himself up cursing, and his comrade said:\\n',\n",
              " '“Now what’s the use of all that? If it’s anybody, and they’re up there, let them stay there—who cares? If they want to jump down, now, and get into trouble, who objects? It will be dark in fifteen minutes—and then let them follow us if they want to. I’m willing. In my opinion, whoever hove those things in here caught a sight of us and took us for ghosts or devils or something. I’ll bet they’re running yet.”\\n',\n",
              " '26-207.jpg (56K)\\n',\n",
              " 'Joe grumbled awhile; then he agreed with his friend that what daylight was left ought to be economized in getting things ready for leaving. Shortly afterward they slipped out of the house in the deepening twilight, and moved toward the river with their precious box.\\n',\n",
              " 'Tom and Huck rose up, weak but vastly relieved, and stared after them through the chinks between the logs of the house. Follow? Not they. They were content to reach ground again without broken necks, and take the townward track over the hill. They did not talk much. They were too much absorbed in hating themselves—hating the ill luck that made them take the spade and the pick there. But for that, Injun Joe never would have suspected. He would have hidden the silver with the gold to wait there till his “revenge” was satisfied, and then he would have had the misfortune to find that money turn up missing. Bitter, bitter luck that the tools were ever brought there!\\n',\n",
              " 'They resolved to keep a lookout for that Spaniard when he should come to town spying out for chances to do his revengeful job, and follow him to “Number Two,” wherever that might be. Then a ghastly thought occurred to Tom.\\n',\n",
              " '“Revenge? What if he means us, Huck!”\\n',\n",
              " '“Oh, don’t!” said Huck, nearly fainting.\\n',\n",
              " 'They talked it all over, and as they entered town they agreed to believe that he might possibly mean somebody else—at least that he might at least mean nobody but Tom, since only Tom had testified.\\n',\n",
              " 'Very, very small comfort it was to Tom to be alone in danger! Company would be a palpable improvement, he thought.\\n',\n",
              " 'CHAPTER XXVII\\n',\n",
              " '27-208.jpg (168K)\\n',\n",
              " 'THE adventure of the day mightily tormented Tom’s dreams that night. Four times he had his hands on that rich treasure and four times it wasted to nothingness in his fingers as sleep forsook him and wakefulness brought back the hard reality of his misfortune. As he lay in the early morning recalling the incidents of his great adventure, he noticed that they seemed curiously subdued and far away—somewhat as if they had happened in another world, or in a time long gone by. Then it occurred to him that the great adventure itself must be a dream! There was one very strong argument in favor of this idea—namely, that the quantity of coin he had seen was too vast to be real. He had never seen as much as fifty dollars in one mass before, and he was like all boys of his age and station in life, in that he imagined that all references to “hundreds” and “thousands” were mere fanciful forms of speech, and that no such sums really existed in the world. He never had supposed for a moment that so large a sum as a hundred dollars was to be found in actual money in any one’s possession. If his notions of hidden treasure had been analyzed, they would have been found to consist of a handful of real dimes and a bushel of vague, splendid, ungraspable dollars.\\n',\n",
              " 'But the incidents of his adventure grew sensibly sharper and clearer under the attrition of thinking them over, and so he presently found himself leaning to the impression that the thing might not have been a dream, after all. This uncertainty must be swept away. He would snatch a hurried breakfast and go and find Huck. Huck was sitting on the gunwale of a flatboat, listlessly dangling his feet in the water and looking very melancholy. Tom concluded to let Huck lead up to the subject. If he did not do it, then the adventure would be proved to have been only a dream.\\n',\n",
              " '“Hello, Huck!”\\n',\n",
              " '“Hello, yourself.”\\n',\n",
              " 'Silence, for a minute.\\n',\n",
              " '“Tom, if we’d ’a’ left the blame tools at the dead tree, we’d ’a’ got the money. Oh, ain’t it awful!”\\n',\n",
              " '“’Tain’t a dream, then, ’tain’t a dream! Somehow I most wish it was. Dog’d if I don’t, Huck.”\\n',\n",
              " '“What ain’t a dream?”\\n',\n",
              " '“Oh, that thing yesterday. I been half thinking it was.”\\n',\n",
              " '27-209.jpg (50K)\\n',\n",
              " '“Dream! If them stairs hadn’t broke down you’d ’a’ seen how much dream it was! I’ve had dreams enough all night—with that patch-eyed Spanish devil going for me all through ’em—rot him!”\\n',\n",
              " '“No, not rot him. Find him! Track the money!”\\n',\n",
              " '“Tom, we’ll never find him. A feller don’t have only one chance for such a pile—and that one’s lost. I’d feel mighty shaky if I was to see him, anyway.”\\n',\n",
              " '“Well, so’d I; but I’d like to see him, anyway—and track him out—to his Number Two.”\\n',\n",
              " '“Number Two—yes, that’s it. I been thinking ’bout that. But I can’t make nothing out of it. What do you reckon it is?”\\n',\n",
              " '“I dono. It’s too deep. Say, Huck—maybe it’s the number of a house!”\\n',\n",
              " '“Goody!... No, Tom, that ain’t it. If it is, it ain’t in this one-horse town. They ain’t no numbers here.”\\n',\n",
              " '“Well, that’s so. Lemme think a minute. Here—it’s the number of a room—in a tavern, you know!”\\n',\n",
              " '“Oh, that’s the trick! They ain’t only two taverns. We can find out quick.”\\n',\n",
              " '“You stay here, Huck, till I come.”\\n',\n",
              " 'Tom was off at once. He did not care to have Huck’s company in public places. He was gone half an hour. He found that in the best tavern, No. 2 had long been occupied by a young lawyer, and was still so occupied. In the less ostentatious house, No. 2 was a mystery. The tavern-keeper’s young son said it was kept locked all the time, and he never saw anybody go into it or come out of it except at night; he did not know any particular reason for this state of things; had had some little curiosity, but it was rather feeble; had made the most of the mystery by entertaining himself with the idea that that room was “ha’nted”; had noticed that there was a light in there the night before.\\n',\n",
              " '“That’s what I’ve found out, Huck. I reckon that’s the very No. 2 we’re after.”\\n',\n",
              " '“I reckon it is, Tom. Now what you going to do?”\\n',\n",
              " '“Lemme think.”\\n',\n",
              " 'Tom thought a long time. Then he said:\\n',\n",
              " '“I’ll tell you. The back door of that No. 2 is the door that comes out into that little close alley between the tavern and the old rattle trap of a brick store. Now you get hold of all the doorkeys you can find, and I’ll nip all of auntie’s, and the first dark night we’ll go there and try ’em. And mind you, keep a lookout for Injun Joe, because he said he was going to drop into town and spy around once more for a chance to get his revenge. If you see him, you just follow him; and if he don’t go to that No. 2, that ain’t the place.”\\n',\n",
              " '“Lordy, I don’t want to foller him by myself!”\\n',\n",
              " '“Why, it’ll be night, sure. He mightn’t ever see you—and if he did, maybe he’d never think anything.”\\n',\n",
              " '“Well, if it’s pretty dark I reckon I’ll track him. I dono—I dono. I’ll try.”\\n',\n",
              " '“You bet I’ll follow him, if it’s dark, Huck. Why, he might ’a’ found out he couldn’t get his revenge, and be going right after that money.”\\n',\n",
              " '“It’s so, Tom, it’s so. I’ll foller him; I will, by jingoes!”\\n',\n",
              " '“Now you’re talking! Don’t you ever weaken, Huck, and I won’t.”\\n',\n",
              " '27-211.jpg (46K)\\n',\n",
              " 'CHAPTER XXVIII\\n',\n",
              " '28-212.jpg (189K)\\n',\n",
              " 'THAT night Tom and Huck were ready for their adventure. They hung about the neighborhood of the tavern until after nine, one watching the alley at a distance and the other the tavern door. Nobody entered the alley or left it; nobody resembling the Spaniard entered or left the tavern door. The night promised to be a fair one; so Tom went home with the understanding that if a considerable degree of darkness came on, Huck was to come and “maow,” whereupon he would slip out and try the keys. But the night remained clear, and Huck closed his watch and retired to bed in an empty sugar hogshead about twelve.\\n',\n",
              " '28-213.jpg (50K)\\n',\n",
              " 'Tuesday the boys had the same ill luck. Also Wednesday. But Thursday night promised better. Tom slipped out in good season with his aunt’s old tin lantern, and a large towel to blindfold it with. He hid the lantern in Huck’s sugar hogshead and the watch began. An hour before midnight the tavern closed up and its lights (the only ones thereabouts) were put out. No Spaniard had been seen. Nobody had entered or left the alley. Everything was auspicious. The blackness of darkness reigned, the perfect stillness was interrupted only by occasional mutterings of distant thunder.\\n',\n",
              " 'Tom got his lantern, lit it in the hogshead, wrapped it closely in the towel, and the two adventurers crept in the gloom toward the tavern. Huck stood sentry and Tom felt his way into the alley. Then there was a season of waiting anxiety that weighed upon Huck’s spirits like a mountain. He began to wish he could see a flash from the lantern—it would frighten him, but it would at least tell him that Tom was alive yet. It seemed hours since Tom had disappeared. Surely he must have fainted; maybe he was dead; maybe his heart had burst under terror and excitement. In his uneasiness Huck found himself drawing closer and closer to the alley; fearing all sorts of dreadful things, and momentarily expecting some catastrophe to happen that would take away his breath. There was not much to take away, for he seemed only able to inhale it by thimblefuls, and his heart would soon wear itself out, the way it was beating. Suddenly there was a flash of light and Tom came tearing by him: “Run!” said he; “run, for your life!”\\n',\n",
              " 'He needn’t have repeated it; once was enough; Huck was making thirty or forty miles an hour before the repetition was uttered. The boys never stopped till they reached the shed of a deserted slaughter-house at the lower end of the village. Just as they got within its shelter the storm burst and the rain poured down. As soon as Tom got his breath he said:\\n',\n",
              " '“Huck, it was awful! I tried two of the keys, just as soft as I could; but they seemed to make such a power of racket that I couldn’t hardly get my breath I was so scared. They wouldn’t turn in the lock, either. Well, without noticing what I was doing, I took hold of the knob, and open comes the door! It warn’t locked! I hopped in, and shook off the towel, and, Great Caesar’s Ghost!”\\n',\n",
              " '28-214.jpg (95K)\\n',\n",
              " '“What!—what’d you see, Tom?”\\n',\n",
              " '“Huck, I most stepped onto Injun Joe’s hand!”\\n',\n",
              " '“No!”\\n']"
            ]
          },
          "metadata": {
            "tags": []
          },
          "execution_count": 45
        }
      ]
    },
    {
      "cell_type": "markdown",
      "metadata": {
        "id": "kxmtqanqrfRS",
        "colab_type": "text"
      },
      "source": [
        "\n",
        "\n",
        "### Preprocess text\n",
        "Split into sentences, clean text, tokenize and padded sentences\n"
      ]
    },
    {
      "cell_type": "code",
      "metadata": {
        "id": "uzbWRFx-rfRS",
        "colab_type": "code",
        "outputId": "62fad566-ab07-4374-875b-ce25ed8df462",
        "colab": {
          "base_uri": "https://localhost:8080/",
          "height": 34
        }
      },
      "source": [
        "# split each book into sentences\n",
        "\n",
        "sentences = {}\n",
        "for name in books.keys():\n",
        "  # use if books read in with readlines()\n",
        "  books[name] = ''.join(books[name])\n",
        "  books[name] = re.sub('\\n+', ' ', books[name])\n",
        "  sentences[name] = nltk.sent_tokenize(books[name])\n",
        "# save memory\n",
        "del books\n",
        "sentences['alice'][500]"
      ],
      "execution_count": 46,
      "outputs": [
        {
          "output_type": "execute_result",
          "data": {
            "text/plain": [
              "'\"I don\\'t know what you mean,\" Al-ice said.'"
            ]
          },
          "metadata": {
            "tags": []
          },
          "execution_count": 46
        }
      ]
    },
    {
      "cell_type": "markdown",
      "metadata": {
        "id": "qS8avvMSrfRb",
        "colab_type": "text"
      },
      "source": [
        "Consider searching for any cases where the punkt tokenizer split a sentence after<br>\n",
        "\"Mr.\""
      ]
    },
    {
      "cell_type": "markdown",
      "metadata": {
        "id": "Vm9i35WGrfRe",
        "colab_type": "text"
      },
      "source": [
        "\n",
        "\n",
        "#### Split into Test and Train\n",
        "Note: not all books even have 1450 sentences. alice only has 813<br>\n",
        "<br>\n"
      ]
    },
    {
      "cell_type": "code",
      "metadata": {
        "id": "mUxas1bsrfRf",
        "colab_type": "code",
        "outputId": "bb420616-80ca-4beb-8a64-a6f6f535ded0",
        "colab": {
          "base_uri": "https://localhost:8080/",
          "height": 34
        }
      },
      "source": [
        "# num sentences per book\n",
        "{name: len(sentences[name]) for name in sentences.keys()}"
      ],
      "execution_count": 47,
      "outputs": [
        {
          "output_type": "execute_result",
          "data": {
            "text/plain": [
              "{'alice': 813, 'crime': 9044, 'mansfield': 3203, 'sawyer': 2750}"
            ]
          },
          "metadata": {
            "tags": []
          },
          "execution_count": 47
        }
      ]
    },
    {
      "cell_type": "code",
      "metadata": {
        "id": "nNT4b4a5rfRl",
        "colab_type": "code",
        "colab": {}
      },
      "source": [
        "# create select combined train and test dataset\n",
        "dataset = []\n",
        "random.seed(123)\n",
        "for name, text in sentences.items():\n",
        "  # 1450 sentences from each book, reduce where necessary\n",
        "  dataset_len = 1450 if 1450 < len(sentences[name]) else len(sentences[name])\n",
        "  dataset.extend(zip([name]*dataset_len, random.sample(text, dataset_len)))\n",
        "random.shuffle(dataset)\n",
        "train_len = round(len(dataset)*.7)\n",
        "y_train, x_train = list(zip(*dataset[:train_len]))\n",
        "y_test, x_test = list(zip(*dataset[train_len:]))\n",
        "# save mem\n",
        "del dataset"
      ],
      "execution_count": 0,
      "outputs": []
    },
    {
      "cell_type": "code",
      "metadata": {
        "id": "xUtgXpiorfRq",
        "colab_type": "code",
        "colab": {}
      },
      "source": [
        "class_to_int =  {name:i for i, name in enumerate(sentences.keys())}\n",
        "y_test = np.array([class_to_int[i] for i in y_test])\n",
        "y_train = np.array([class_to_int[i] for i in y_train])"
      ],
      "execution_count": 0,
      "outputs": []
    },
    {
      "cell_type": "code",
      "metadata": {
        "id": "m3hqIS0irfRu",
        "colab_type": "code",
        "outputId": "a72befaf-9dff-44be-c3f7-b91f22b5e827",
        "colab": {
          "base_uri": "https://localhost:8080/",
          "height": 105
        }
      },
      "source": [
        "print(x_train[:5])\n",
        "print(y_train[:5])\n",
        "print('length x_train:', len(x_train))\n",
        "print('length y_train:', len(y_train))"
      ],
      "execution_count": 50,
      "outputs": [
        {
          "output_type": "stream",
          "text": [
            "('Devils don’t slosh around much of a Sunday, I don’t reckon.” “I never thought of that.', 'Mrs. Grant, I believe, suspects him of a preference for Julia; I have never seen much symptom of it, but I wish it may be so.', 'It seemed to him that life was but a trouble, at best, and he more than half envied Jimmy Hodges, so lately released; it must be very peaceful, he thought, to lie and slumber and dream forever and ever, with the wind whispering through the trees and caressing the grass and the flowers over the grave, and nothing to bother and grieve about, ever any more.', 'And it showed three white, startled faces, too.', 'Why it ain’t like anything.')\n",
            "[3 2 3 3 3]\n",
            "length x_train: 3614\n",
            "length y_train: 3614\n"
          ],
          "name": "stdout"
        }
      ]
    },
    {
      "cell_type": "markdown",
      "metadata": {
        "id": "k6a8tMvIrfRx",
        "colab_type": "text"
      },
      "source": [
        "\n",
        "<br>\n",
        "note: I have created an imbalanced data set<br>\n"
      ]
    },
    {
      "cell_type": "markdown",
      "metadata": {
        "id": "XNCjNNPWrfRy",
        "colab_type": "text"
      },
      "source": [
        "\n",
        "\n",
        "#### Scratch work for text cleaning\n",
        "Text cleaning notes:<br>\n",
        "\n",
        "All books:<br>\n",
        "- punctuation. separate from the word it follows, or is the useful? <br>\n",
        "- insight, much like sentence starters might be useful info<br>\n",
        "\n",
        "Alice preprocess issues:\n",
        "- dashed words (but leave one dash in double dashs). In teh end escaped single <br>\n",
        "quote ' (\\')<br>\n",
        "- bring it all lower case # does this loose useful info?<br>\n",
        "- get rid of multiple concurrent spaces<br>\n",
        "\n",
        "Crime prepocess issues:\n",
        "- .... four dots... useful? can these be separated by word at all'<br>\n",
        "\n",
        "Sawyer Text issues:\n",
        "- img names like \"01-018.jpg (54K)\" are sprinkled throughout the text<br>\n",
        "- story didn't start till ~ sentence 45 of `sentences`<br>\n"
      ]
    },
    {
      "cell_type": "code",
      "metadata": {
        "id": "4EN_y4A7rfR0",
        "colab_type": "code",
        "colab": {
          "base_uri": "https://localhost:8080/",
          "height": 105
        },
        "outputId": "02bfb080-9d49-4d13-e218-d8d92336867c"
      },
      "source": [
        "# ID index of longest senteces in each book\n",
        "long_sents = [j for i in range(len(sentences.values())) for j in range(len(list(sentences.values())[i])) if list(sentences.values())[i][j] == max(list(sentences.values())[i], key= len)]\n",
        "#[653, 7010, 1981, 434]\n",
        "# alt\n",
        "# np.where(np.array(sentences['sawyer']) == max(sentences['sawyer'], key = len))\n",
        "[len(max(list, key= len)) for list in sentences.values()]\n",
        "[max(list, key= len) for list in sentences.values()]"
      ],
      "execution_count": 51,
      "outputs": [
        {
          "output_type": "execute_result",
          "data": {
            "text/plain": [
              "['She tucked it un-der her arm with its legs down, but just as she got its neck straight and thought now she could give the ball a good blow with its head, the bird would twist its neck round and give her such a queer look, that she could not help laugh-ing; and by the time she had got its head down a-gain, she found that the hedge-hog had crawled off.',\n",
              " 'Sonia flushed crimson, and Katerina Ivanovna suddenly burst into tears, immediately observing that she was “nervous and silly, that she was too much upset, that it was time to finish, and as the dinner was over, it was time to hand round the tea.” At that moment, Amalia Ivanovna, deeply aggrieved at taking no part in the conversation, and not being listened to, made one last effort, and with secret misgivings ventured on an exceedingly deep and weighty observation, that “in the future boarding-school she would have to pay particular attention to die Wäsche, and that there certainly must be a good dame to look after the linen, and secondly that the young ladies must not novels at night read.” Katerina Ivanovna, who certainly was upset and very tired, as well as heartily sick of the dinner, at once cut short Amalia Ivanovna, saying “she knew nothing about it and was talking nonsense, that it was the business of the laundry maid, and not of the directress of a high-class boarding-school to look after die Wäsche, and as for novel-reading, that was simply rudeness, and she begged her to be silent.” Amalia Ivanovna fired up and getting angry observed that she only “meant her good,” and that “she had meant her very good,” and that “it was long since she had paid her gold for the lodgings.” Katerina Ivanovna at once “set her down,” saying that it was a lie to say she wished her good, because only yesterday when her dead husband was lying on the table, she had worried her about the lodgings.',\n",
              " \"Excepting the moments of peculiar delight, which any marked or unlooked-for instance of Edmund's consideration of her in the last few months had excited, Fanny had never known so much felicity in her life, as in this unchecked, equal, fearless intercourse with the brother and friend who was opening all his heart to her, telling her all his hopes and fears, plans, and solicitudes respecting that long thought of, dearly earned, and justly valued blessing of promotion; who could give her direct and minute information of the father and mother, brothers and sisters, of whom she very seldom heard; who was interested in all the comforts and all the little hardships of her home at Mansfield; ready to think of every member of that home as she directed, or differing only by a less scrupulous opinion, and more noisy abuse of their aunt Norris, and with whom (perhaps the dearest indulgence of the whole) all the evil and good of their earliest years could be gone over again, and every former united pain and pleasure retraced with the fondest recollection.\",\n",
              " 'The crowd filed up the aisles: the aged and needy postmaster, who had seen better days; the mayor and his wife—for they had a mayor there, among other unnecessaries; the justice of the peace; the widow Douglass, fair, smart, and forty, a generous, good-hearted soul and well-to-do, her hill mansion the only palace in the town, and the most hospitable and much the most lavish in the matter of festivities that St. Petersburg could boast; the bent and venerable Major and Mrs. Ward; lawyer Riverson, the new notable from a distance; next the belle of the village, followed by a troop of lawn-clad and ribbon-decked young heart-breakers; then all the young clerks in town in a body—for they had stood in the vestibule sucking their cane-heads, a circling wall of oiled and simpering admirers, till the last girl had run their gantlet; and last of all came the Model Boy, Willie Mufferson, taking as heedful care of his mother as if she were cut glass.']"
            ]
          },
          "metadata": {
            "tags": []
          },
          "execution_count": 51
        }
      ]
    },
    {
      "cell_type": "code",
      "metadata": {
        "id": "lInAgKCvrfSC",
        "colab_type": "code",
        "outputId": "658805d9-5f67-482c-e5af-65f8999d1ab9",
        "colab": {
          "base_uri": "https://localhost:8080/",
          "height": 105
        }
      },
      "source": [
        "# display longest sentences\n",
        "[list(sentences.values())[i][j] for i, j in enumerate(long_sents)]"
      ],
      "execution_count": 52,
      "outputs": [
        {
          "output_type": "execute_result",
          "data": {
            "text/plain": [
              "['She tucked it un-der her arm with its legs down, but just as she got its neck straight and thought now she could give the ball a good blow with its head, the bird would twist its neck round and give her such a queer look, that she could not help laugh-ing; and by the time she had got its head down a-gain, she found that the hedge-hog had crawled off.',\n",
              " 'Sonia flushed crimson, and Katerina Ivanovna suddenly burst into tears, immediately observing that she was “nervous and silly, that she was too much upset, that it was time to finish, and as the dinner was over, it was time to hand round the tea.” At that moment, Amalia Ivanovna, deeply aggrieved at taking no part in the conversation, and not being listened to, made one last effort, and with secret misgivings ventured on an exceedingly deep and weighty observation, that “in the future boarding-school she would have to pay particular attention to die Wäsche, and that there certainly must be a good dame to look after the linen, and secondly that the young ladies must not novels at night read.” Katerina Ivanovna, who certainly was upset and very tired, as well as heartily sick of the dinner, at once cut short Amalia Ivanovna, saying “she knew nothing about it and was talking nonsense, that it was the business of the laundry maid, and not of the directress of a high-class boarding-school to look after die Wäsche, and as for novel-reading, that was simply rudeness, and she begged her to be silent.” Amalia Ivanovna fired up and getting angry observed that she only “meant her good,” and that “she had meant her very good,” and that “it was long since she had paid her gold for the lodgings.” Katerina Ivanovna at once “set her down,” saying that it was a lie to say she wished her good, because only yesterday when her dead husband was lying on the table, she had worried her about the lodgings.',\n",
              " \"Excepting the moments of peculiar delight, which any marked or unlooked-for instance of Edmund's consideration of her in the last few months had excited, Fanny had never known so much felicity in her life, as in this unchecked, equal, fearless intercourse with the brother and friend who was opening all his heart to her, telling her all his hopes and fears, plans, and solicitudes respecting that long thought of, dearly earned, and justly valued blessing of promotion; who could give her direct and minute information of the father and mother, brothers and sisters, of whom she very seldom heard; who was interested in all the comforts and all the little hardships of her home at Mansfield; ready to think of every member of that home as she directed, or differing only by a less scrupulous opinion, and more noisy abuse of their aunt Norris, and with whom (perhaps the dearest indulgence of the whole) all the evil and good of their earliest years could be gone over again, and every former united pain and pleasure retraced with the fondest recollection.\",\n",
              " 'The crowd filed up the aisles: the aged and needy postmaster, who had seen better days; the mayor and his wife—for they had a mayor there, among other unnecessaries; the justice of the peace; the widow Douglass, fair, smart, and forty, a generous, good-hearted soul and well-to-do, her hill mansion the only palace in the town, and the most hospitable and much the most lavish in the matter of festivities that St. Petersburg could boast; the bent and venerable Major and Mrs. Ward; lawyer Riverson, the new notable from a distance; next the belle of the village, followed by a troop of lawn-clad and ribbon-decked young heart-breakers; then all the young clerks in town in a body—for they had stood in the vestibule sucking their cane-heads, a circling wall of oiled and simpering admirers, till the last girl had run their gantlet; and last of all came the Model Boy, Willie Mufferson, taking as heedful care of his mother as if she were cut glass.']"
            ]
          },
          "metadata": {
            "tags": []
          },
          "execution_count": 52
        }
      ]
    },
    {
      "cell_type": "code",
      "metadata": {
        "id": "e9vJ963irfSF",
        "colab_type": "code",
        "outputId": "6dfba483-6aed-43c4-c568-08da72aa346f",
        "colab": {
          "base_uri": "https://localhost:8080/",
          "height": 54
        }
      },
      "source": [
        "# find .jpg sentence in sawyer\n",
        "[i for i, sent in enumerate(sentences['sawyer']) if re.search(r\".jpg\" ,  sent)][:20]\n",
        "# practice regex on .jpg\n",
        "re.sub(\"\\\\b.*\\\\.jpg.*\\\\)\", \"XXX\", sentences['sawyer'][357])"
      ],
      "execution_count": 53,
      "outputs": [
        {
          "output_type": "execute_result",
          "data": {
            "text/plain": [
              "'XXX In due course the superintendent stood up in front of the pulpit, with a closed hymn-book in his hand and his forefinger inserted between its leaves, and commanded attention.'"
            ]
          },
          "metadata": {
            "tags": []
          },
          "execution_count": 53
        }
      ]
    },
    {
      "cell_type": "markdown",
      "metadata": {
        "id": "DQzH9djXrfSN",
        "colab_type": "text"
      },
      "source": [
        "convert to ascii or sort out apostrophe at sawyer"
      ]
    },
    {
      "cell_type": "code",
      "metadata": {
        "id": "h0eHxEfarfSP",
        "colab_type": "code",
        "outputId": "7db3d288-6a5f-498e-ba49-985368b1c12d",
        "colab": {
          "base_uri": "https://localhost:8080/",
          "height": 34
        }
      },
      "source": [
        "# convert to ascii or sort out apostrophe at sawyer\n",
        "a = sentences['sawyer'][37][10:20]\n",
        "# see unicode python 3 docs for inspo\n",
        "b = ['%04x' % ord(i) for i in a] # why this weird modulus\n",
        "list(zip(a,b))\n",
        "chr(8217)\n",
        "'\\u2019'\n",
        "#'\\u2019'.encode('ascii') #error\n",
        "unicodedata.normalize('NFKD', a)\n",
        "import unidecode\n",
        "a_new = unidecode.unidecode(a)\n",
        "b_new = ['%04x' % ord(i) for i in a_new]\n",
        "list(zip(a_new,b_new))\n",
        "\n",
        "# find occurences of apostrophe char\n",
        "test = {}\n",
        "for name in sentences.keys():\n",
        "  test[name] = sum(len(re.findall('\\u2019', sent)) for sent in sentences[name])\n",
        "test"
      ],
      "execution_count": 54,
      "outputs": [
        {
          "output_type": "execute_result",
          "data": {
            "text/plain": [
              "{'alice': 0, 'crime': 3145, 'mansfield': 0, 'sawyer': 1738}"
            ]
          },
          "metadata": {
            "tags": []
          },
          "execution_count": 54
        }
      ]
    },
    {
      "cell_type": "markdown",
      "metadata": {
        "id": "kXLFrEq8rfSS",
        "colab_type": "text"
      },
      "source": [
        "\n",
        "\n",
        "### Clean text\n"
      ]
    },
    {
      "cell_type": "code",
      "metadata": {
        "id": "xxsNRCTvrfSS",
        "colab_type": "code",
        "colab": {}
      },
      "source": [
        "def clean_text(s):\n",
        "  # for details, see https://www.tensorflow.org/alpha/tutorials/sequences/nmt_with_attention\n",
        "  # normalizes unicode code points and removes no-space markers \n",
        "  #s = ''.join(c for c in unicodedata.normalize('NFD', s) if unicodedata.category(c) != 'Mn')\n",
        "  # adds a space around any punct to allow it to be inputed as separate word\n",
        "  s = re.sub(r\"([?.!,¿])\", r\" \\1 \", s) \n",
        "  s = re.sub(r'[\" \"]+', \" \", s) # replaces quotes with spaces\n",
        "  s = re.sub(r\"\\'\", r\"'\", s) # remove escaped single quotes common in alice\n",
        "  s = re.sub(r\"--\", r\" \", s) # \"--\" --> \" \" for alice\n",
        "  s = re.sub(r\"-\", r\"\", s) # \"-\" --> \"\" for alice\n",
        "  s = re.sub(\"\\\\b.*\\\\.jpg.*\\\\)\", \"\", s) # remove .jpgs for sawyer\n",
        "  # replace all apostrophe's with single quotes and include single quotes in \n",
        "  # allowed chars (will I run into multiple quote types in unicode) to keep \n",
        "  # contractions whole. OR if I left apostophes and single quote substituted \n",
        "  # with spaces would the seq order aware RNN recognize \"can t\" as a common \n",
        "  # pair and interpret it as a whole word.\n",
        "  #s = re.sub('\\u2019', \"'\", s)\n",
        "  s = re.sub(r\"[^a-zA-Z?.!,]+\", \" \", s) # currently single quote ' not included\n",
        "  s = s.strip()\n",
        "  s = '<start> ' + s + ' <end>'\n",
        "  return s"
      ],
      "execution_count": 0,
      "outputs": []
    },
    {
      "cell_type": "code",
      "metadata": {
        "id": "boECgXHOrfSW",
        "colab_type": "code",
        "colab": {}
      },
      "source": [
        "# apply cleaning steps\n",
        "x_train = [clean_text(i) for i in x_train]\n",
        "x_test = [clean_text(i) for i in x_test]\n",
        "# save mem\n",
        "#del sentences "
      ],
      "execution_count": 0,
      "outputs": []
    },
    {
      "cell_type": "markdown",
      "metadata": {
        "id": "xRoDm2j0rfSZ",
        "colab_type": "text"
      },
      "source": [
        "\n",
        "\n",
        "#### Tokenize and pad length \n",
        "\n",
        "Consider applying tokenization and add padding in one function. \n",
        "Tokenizer scope both is both test and train."
      ]
    },
    {
      "cell_type": "code",
      "metadata": {
        "id": "fop5-eLxrfSb",
        "colab_type": "code",
        "colab": {}
      },
      "source": [
        "# Build vocabulary mapping\n",
        "tokenizer = tf.keras.preprocessing.text.Tokenizer(filters='')\n",
        "tokenizer.fit_on_texts(x_test + x_train)"
      ],
      "execution_count": 0,
      "outputs": []
    },
    {
      "cell_type": "code",
      "metadata": {
        "id": "pR5JVu2grfSf",
        "colab_type": "code",
        "colab": {}
      },
      "source": [
        "# apply word-to-int map\n",
        "x_train = tokenizer.texts_to_sequences(x_train)\n",
        "x_test = tokenizer.texts_to_sequences(x_test)"
      ],
      "execution_count": 0,
      "outputs": []
    },
    {
      "cell_type": "markdown",
      "metadata": {
        "id": "mjUKSiLSrfSh",
        "colab_type": "text"
      },
      "source": [
        "\n",
        "Decision Point!!: I am choosing to cap sentences after 35 words for <br>\n",
        "computational ease. ~85% of sentences will be full with a 35 word cap<br>"
      ]
    },
    {
      "cell_type": "code",
      "metadata": {
        "id": "R-WUvjzUrfSi",
        "colab_type": "code",
        "outputId": "f5146a6d-bef5-4aef-8001-64add1812fb3",
        "colab": {
          "base_uri": "https://localhost:8080/",
          "height": 34
        }
      },
      "source": [
        "# check dist of sentence lengths<br>\n",
        "# note: sentences are 1 int per word so len() captures word count\n",
        "a = [len(i) for i in x_train+x_test]\n",
        "np.quantile(a, [0,.25,.5,.75,.8,.85,.9,1])"
      ],
      "execution_count": 59,
      "outputs": [
        {
          "output_type": "execute_result",
          "data": {
            "text/plain": [
              "array([  4.,  12.,  19.,  33.,  37.,  42.,  50., 219.])"
            ]
          },
          "metadata": {
            "tags": []
          },
          "execution_count": 59
        }
      ]
    },
    {
      "cell_type": "code",
      "metadata": {
        "id": "btLKbgZvrfSl",
        "colab_type": "code",
        "colab": {}
      },
      "source": [
        "# pad seqs\n",
        "pad = tf.keras.preprocessing.sequence.pad_sequences\n",
        "x_train = pad(x_train, maxlen=35, padding='post', truncating='post')\n",
        "x_test = pad(x_test, maxlen=35, padding='post', truncating='post')"
      ],
      "execution_count": 0,
      "outputs": []
    },
    {
      "cell_type": "markdown",
      "metadata": {
        "id": "lgyfBFM8rfSs",
        "colab_type": "text"
      },
      "source": [
        "\n",
        "### Define DNN1 model \n",
        "\n",
        "I beleive that word (as int) sequences\n",
        "are not very powerful as a predictors here because sentence length varies,  many of the later sentences will have 0s in later positions making those positions  less predictive\n",
        "Even if word order could be taken into account by this model, really the position of a word in a sentence is  not likely not very predictive . For this reason maybe a more non-linear model i.e. deeper \n",
        "would be better). \n",
        "\n",
        "And imprved model would be somehting that takes into account the mix of words used in <br>\n",
        "a sentence -like a bag of words - at a minimum and possibly also word order (as an RNN does)... \n",
        "\n",
        "Q: Why is it not preferable to just put the int sentence in as input vector  instead of a flattened embedings layer as suggested in the Subclassing example model?\n"
      ]
    },
    {
      "cell_type": "code",
      "metadata": {
        "id": "ma1zA-xBrfSs",
        "colab_type": "code",
        "colab": {}
      },
      "source": [
        "class DNN1(tf.keras.Model):\n",
        "  def __init__(self, vocab_size, embedding_size = 10):\n",
        "    # vocab size --> col width of input array i.e. len of input vec\n",
        "    # embedding size --> size of embedding that each int in vocab will be \n",
        "    # mapped to by tf embedding\n",
        "    super(DNN1, self).__init__()\n",
        "    self.embedding = tf.keras.layers.Embedding(vocab_size, embedding_size)\n",
        "    self.flatten = tf.keras.layers.Flatten()\n",
        "    self.dense1 = tf.keras.layers.Dense(70, activation='relu')\n",
        "    self.dense2 = tf.keras.layers.Dense(25, activation= 'relu')\n",
        "    self.dense3 = tf.keras.layers.Dense(4, activation= 'softmax')\n",
        "  \n",
        "  def call(self, input_vec):\n",
        "    x = self.embedding(input_vec)\n",
        "    x = self.flatten(x)\n",
        "    x = self.dense1(x)\n",
        "    x = self.dense2(x)\n",
        "    output_vec = self.dense3(x)\n",
        "    return output_vec"
      ],
      "execution_count": 0,
      "outputs": []
    },
    {
      "cell_type": "markdown",
      "metadata": {
        "id": "0cSCXavUrfSw",
        "colab_type": "text"
      },
      "source": [
        "\n",
        "#### Exploring with the DNN1 architecture"
      ]
    },
    {
      "cell_type": "code",
      "metadata": {
        "id": "MEsMb-gNrfSx",
        "colab_type": "code",
        "colab": {
          "base_uri": "https://localhost:8080/",
          "height": 34
        },
        "outputId": "1876e5cb-aa15-411e-a4bf-4ba55ce41af1"
      },
      "source": [
        "# +1 to accomodate the reserved int 0\n",
        "vocab_size = len(tokenizer.word_index) + 1\n",
        "\n",
        "dnn1 = DNN1(vocab_size)\n",
        "\n",
        "input_vec = x_train[:12, :]\n",
        "input_vec.shape # (12, 35) == (batch_size, padded sent len)\n",
        "\n",
        "x = dnn1.embedding(input_vec)\n",
        "# one row per obvs\n",
        "x.shape # [12, 35, 10] == (batch_size, padded sent len, embedding_size)\n",
        "\n",
        "# I am assuming that flatten puts concats the depth rows sequentially for\n",
        "# coherence of input structure as a sentece vectorization\n",
        "x = dnn1.flatten(x)\n",
        "# now each 10 cell section represents a uniqe word\n",
        "x.shape # [12, 350] == (batch_size, padded sent len * embedding_size)\n",
        "\n",
        "x = dnn1.dense1(x)\n",
        "x.shape # [12, 70] == (batch_size, dense1 nodes)\n",
        "\n",
        "x = dnn1.dense2(x)\n",
        "x.shape # [12, 25] == (batch_size, dense2 nodes)\n",
        "\n",
        "output_vec = dnn1.dense3(x)\n",
        "output_vec.shape # # [12, 25] == (batch_size, num classes)"
      ],
      "execution_count": 62,
      "outputs": [
        {
          "output_type": "execute_result",
          "data": {
            "text/plain": [
              "TensorShape([12, 4])"
            ]
          },
          "metadata": {
            "tags": []
          },
          "execution_count": 62
        }
      ]
    },
    {
      "cell_type": "markdown",
      "metadata": {
        "id": "qZOr3J3VrfS5",
        "colab_type": "text"
      },
      "source": [
        "\n",
        "\n",
        "### Define RNN1 model \n",
        "\n",
        "Take histor recording internal state and feed it into dense\n",
        "\n",
        "Other ideas:\n",
        "take each RNN seq elem output and throw that in a dense too? hidden state dense and the rnn output dense\n",
        "look in text book for RNN architectures..<br>\n",
        "\n",
        "Note: the RNN architecture reduces 65 dim RNN output directly into <br>\n",
        "4 output classes from dense. Is this too rapid of a generalization not allowing <br>\n",
        "for enough non-linearity and interaction effects?\n"
      ]
    },
    {
      "cell_type": "code",
      "metadata": {
        "id": "fjqgzFU4rfS7",
        "colab_type": "code",
        "colab": {}
      },
      "source": [
        "class RNN1(tf.keras.Model):\n",
        "  def __init__(self, vocab_size, embedding_size = 10, rnn_nodes = 65):\n",
        "    # vocab size --> col width of input array i.e. len of input vec\n",
        "    # embedding size --> size of embedding that each int in vocab will be \n",
        "    # mapped to by tf embedding\n",
        "    super(RNN1, self).__init__()\n",
        "    self.embedding = tf.keras.layers.Embedding(vocab_size, embedding_size)\n",
        "    self.gru = tf.keras.layers.GRU(rnn_nodes, \n",
        "                                   return_sequences=True, \n",
        "                                   return_state=True)\n",
        "    #self.dense1 = tf.keras.layers.Dense(20, activation='relu')\n",
        "    self.dense2 = tf.keras.layers.Dense(4, activation= 'softmax')\n",
        "    self.rnn_nodes = rnn_nodes\n",
        "  \n",
        "  def call(self, input_vec, initial_state):\n",
        "    x = self.embedding(input_vec)\n",
        "    x, state = self.gru(x, initial_state)\n",
        "    output_vec  = self.dense2(state)\n",
        "    return output_vec"
      ],
      "execution_count": 0,
      "outputs": []
    },
    {
      "cell_type": "markdown",
      "metadata": {
        "id": "taslBalCrfTC",
        "colab_type": "text"
      },
      "source": [
        "Compare parameter counts"
      ]
    },
    {
      "cell_type": "code",
      "metadata": {
        "id": "Z5PZKSsArfTC",
        "colab_type": "code",
        "colab": {
          "base_uri": "https://localhost:8080/",
          "height": 595
        },
        "outputId": "9696763a-3499-4691-9dfd-2f52f38695f1"
      },
      "source": [
        "# compare parameter counts\n",
        "rnn1 = RNN1(vocab_size)\n",
        "dnn1 = DNN1(vocab_size)\n",
        "\n",
        "# call instance to figure out input size\n",
        "BATCH_SIZE = 12\n",
        "initial_state = tf.zeros((BATCH_SIZE, rnn1.rnn_nodes))\n",
        "x = x_test[:BATCH_SIZE,:]\n",
        "result = rnn1(x, initial_state)\n",
        "dnn1(x)\n",
        "\n",
        "print(rnn1.summary()) # 99,529\n",
        "print(dnn1.summary()) # 110,699"
      ],
      "execution_count": 65,
      "outputs": [
        {
          "output_type": "stream",
          "text": [
            "Model: \"rn_n1_1\"\n",
            "_________________________________________________________________\n",
            "Layer (type)                 Output Shape              Param #   \n",
            "=================================================================\n",
            "embedding_3 (Embedding)      multiple                  84250     \n",
            "_________________________________________________________________\n",
            "unified_gru_1 (UnifiedGRU)   multiple                  15015     \n",
            "_________________________________________________________________\n",
            "dense_7 (Dense)              multiple                  264       \n",
            "=================================================================\n",
            "Total params: 99,529\n",
            "Trainable params: 99,529\n",
            "Non-trainable params: 0\n",
            "_________________________________________________________________\n",
            "None\n",
            "Model: \"dn_n1_2\"\n",
            "_________________________________________________________________\n",
            "Layer (type)                 Output Shape              Param #   \n",
            "=================================================================\n",
            "embedding_4 (Embedding)      multiple                  84250     \n",
            "_________________________________________________________________\n",
            "flatten_2 (Flatten)          multiple                  0         \n",
            "_________________________________________________________________\n",
            "dense_8 (Dense)              multiple                  24570     \n",
            "_________________________________________________________________\n",
            "dense_9 (Dense)              multiple                  1775      \n",
            "_________________________________________________________________\n",
            "dense_10 (Dense)             multiple                  104       \n",
            "=================================================================\n",
            "Total params: 110,699\n",
            "Trainable params: 110,699\n",
            "Non-trainable params: 0\n",
            "_________________________________________________________________\n",
            "None\n"
          ],
          "name": "stdout"
        }
      ]
    },
    {
      "cell_type": "markdown",
      "metadata": {
        "id": "VGYQ8Lb-rfTL",
        "colab_type": "text"
      },
      "source": [
        "### Define Train Step<br>\n",
        "i.e. forward pass and weight update step<br>\n"
      ]
    },
    {
      "cell_type": "markdown",
      "metadata": {
        "id": "6lScLM_qrfTN",
        "colab_type": "text"
      },
      "source": [
        "Consider making a Trainer class with a .train_step method and attrs<br>\n",
        "for epoch results .. even use it to run epochs\n"
      ]
    },
    {
      "cell_type": "code",
      "metadata": {
        "id": "jjSHJxsQrfTS",
        "colab_type": "code",
        "colab": {}
      },
      "source": [
        "# Define loss func and initialize optimizer\n",
        "\n",
        "# for normal tf\n",
        "loss_func = tf.keras.losses.SparseCategoricalCrossentropy()\n",
        "# alt for tf GPU\n",
        "#loss_func = lambda labs, preds: tf.reduce_mean(tf.keras.backend.sparse_categorical_crossentropy(labs, preds)) # function\n",
        "optimizer = tf.keras.optimizers.Adam()"
      ],
      "execution_count": 0,
      "outputs": []
    },
    {
      "cell_type": "code",
      "metadata": {
        "id": "Bs00hVVyrfTX",
        "colab_type": "code",
        "colab": {}
      },
      "source": [
        "#@tf.function\n",
        "def train_step(x_batch, y_batch, model, state = None, is_rnn = False):\n",
        "  ## Calc forward pass and record graph\n",
        "  with tf.GradientTape() as graph:\n",
        "    if is_rnn: # alternatively I could include an unused state arg in DNN1.call()\n",
        "      assert state is not None\n",
        "      # resize initial state for batch_size of final remainder batch\n",
        "      if state.shape[0] != x_batch.shape[0]:\n",
        "        state = tf.slice(state, [0,0], [x_batch.shape[0], state.shape[1]])\n",
        "      predictions = model(x_batch, state)\n",
        "    else:\n",
        "      predictions = model(x_batch)\n",
        "    # train_loss is a scalar, the avg loss over all obsvs in batch\n",
        "    train_loss = loss_func(y_batch,  predictions) \n",
        "  \n",
        "  ## Update weights (in place)\n",
        "  gradients = graph.gradient(train_loss, model.trainable_variables)\n",
        "  # update model parameters in place\n",
        "  optimizer.apply_gradients(zip(gradients, model.trainable_variables))\n",
        "  \n",
        "  ## Record (return) results / batch avg train loss\n",
        "  return train_loss, (y_batch, predictions)"
      ],
      "execution_count": 0,
      "outputs": []
    },
    {
      "cell_type": "markdown",
      "metadata": {
        "id": "74-V2S_brfTi",
        "colab_type": "text"
      },
      "source": [
        "Test accuracy function\n"
      ]
    },
    {
      "cell_type": "code",
      "metadata": {
        "id": "6QCigm9orfTj",
        "colab_type": "code",
        "colab": {}
      },
      "source": [
        "def accuracy(x, y, model, is_rnn = False):\n",
        "  assert all(isinstance(i, np.ndarray) for i in (x,y))\n",
        "  if is_rnn:\n",
        "    state = tf.zeros((x.shape[0], model.rnn_nodes))\n",
        "    preds = model(x, state)\n",
        "  else:\n",
        "    preds = model(x)\n",
        "  preds = np.argmax(preds, axis = 1)\n",
        "  correct = (preds == y).sum()\n",
        "  return (correct/len(preds)) * 100"
      ],
      "execution_count": 0,
      "outputs": []
    },
    {
      "cell_type": "markdown",
      "metadata": {
        "id": "pK2gG3bq_xzj",
        "colab_type": "text"
      },
      "source": [
        "Initialize cumulitive metric classes"
      ]
    },
    {
      "cell_type": "code",
      "metadata": {
        "id": "PTqQ6GaErfTl",
        "colab_type": "code",
        "colab": {}
      },
      "source": [
        "cumul_avg_train_loss = tf.keras.metrics.Mean()\n",
        "cumul_train_acc = tf.keras.metrics.SparseCategoricalAccuracy()"
      ],
      "execution_count": 0,
      "outputs": []
    },
    {
      "cell_type": "markdown",
      "metadata": {
        "id": "QJ354-ERrfTo",
        "colab_type": "text"
      },
      "source": [
        "Create class for logging training results"
      ]
    },
    {
      "cell_type": "code",
      "metadata": {
        "id": "dqAGZ0C5rfTo",
        "colab_type": "code",
        "colab": {}
      },
      "source": [
        "class logger:\n",
        "  path = './train_logs'\n",
        "  \n",
        "  def __init__(self, model):\n",
        "    self.file = 'train log - %s.txt' % time.ctime()\n",
        "    os.makedirs(logger.path, exist_ok=True)\n",
        "    if not os.path.exists(os.path.join(logger.path, self.file)):\n",
        "      config = inspect.getsource(model.__init__)\n",
        "      config += '\\n' + inspect.getsource(model.call)\n",
        "      with open(os.path.join(logger.path, self.file), 'wt') as file:\n",
        "        file.write(config)\n",
        "  \n",
        "  def write(self, report):\n",
        "    with open(os.path.join(logger.path, self.file), 'at') as file:\n",
        "        file.write(report)"
      ],
      "execution_count": 0,
      "outputs": []
    },
    {
      "cell_type": "markdown",
      "metadata": {
        "colab_type": "text",
        "id": "ZKNlXN6r5nvz"
      },
      "source": [
        "Split data into batches\n",
        "\n",
        "<br>\n",
        "What would a better batch size be?<br>\n"
      ]
    },
    {
      "cell_type": "code",
      "metadata": {
        "colab_type": "code",
        "id": "5kxMbsQj5nv2",
        "colab": {}
      },
      "source": [
        "BATCH_SIZE = 12\n",
        "\n",
        "# tf dataset is a convenices for batch iteration (and more if desired)\n",
        "dataset = tf.data.Dataset.from_tensor_slices((x_train, y_train))\n",
        "dataset = dataset.batch(BATCH_SIZE)\n",
        "\n",
        "x,y = next(iter(dataset))\n",
        "result = train_step(x,y, dnn1)"
      ],
      "execution_count": 0,
      "outputs": []
    },
    {
      "cell_type": "markdown",
      "metadata": {
        "id": "W0K1c8fkrfTu",
        "colab_type": "text"
      },
      "source": [
        "### Train model and report progress\n"
      ]
    },
    {
      "cell_type": "code",
      "metadata": {
        "id": "2rOLcwNLrfTv",
        "colab_type": "code",
        "colab": {}
      },
      "source": [
        "EPOCHS = 50\n",
        "REPORT_FREQ = 5\n",
        "RNN = True\n",
        "#MODEL = DNN1(vocab_size)\n",
        "MODEL = RNN1(vocab_size)"
      ],
      "execution_count": 0,
      "outputs": []
    },
    {
      "cell_type": "code",
      "metadata": {
        "id": "RVgBz97arfTx",
        "colab_type": "code",
        "colab": {
          "base_uri": "https://localhost:8080/",
          "height": 187
        },
        "outputId": "da375814-d679-4447-cea5-5834ad38c464"
      },
      "source": [
        "start = time.time()\n",
        "date_time = time.ctime()\n",
        "log = logger(MODEL)\n",
        "for epoch in range(EPOCHS):\n",
        "    epoch_start = time.time()\n",
        "    \n",
        "    if RNN:\n",
        "      initial_state = tf.zeros((BATCH_SIZE, MODEL.rnn_nodes))\n",
        "    \n",
        "    # Train Batch\n",
        "    batch = 0\n",
        "    for batch, (x_batch, y_batch) in enumerate(dataset):\n",
        "      batch +=1\n",
        "      result = train_step(x_batch, y_batch, MODEL, state = initial_state, is_rnn=RNN)\n",
        "      if epoch % REPORT_FREQ == 0:\n",
        "        # record batch results\n",
        "        train_loss, (labels, predictions) = result\n",
        "        cumul_avg_train_loss(train_loss)\n",
        "        cumul_train_acc(labels, predictions)\n",
        "    \n",
        "    # Report Results\n",
        "    if epoch % REPORT_FREQ == 0:\n",
        "      epoch_time = time.time() - epoch_start\n",
        "      total_time = time.time() - start\n",
        "      test_acc = accuracy(x_test, y_test, MODEL, is_rnn=RNN) \n",
        "      \n",
        "      template = \"Epoch #: %2d, Total Time: %.2f sec, Epoch Time: %.2f sec, Train Loss: %.4f, Train Acc: %.2f, Test Acc: %.2f\"\n",
        "      template = template \\\n",
        "        % (epoch, total_time, epoch_time, cumul_avg_train_loss.result(),\n",
        "         cumul_train_acc.result(), test_acc)\n",
        "      \n",
        "      #print to stdout\n",
        "      print(template)\n",
        "      #record in log\n",
        "      log.write(template)\n",
        "      \n",
        "      # reset cumulative metrics\n",
        "      cumul_avg_train_loss.reset_states()\n",
        "      cumul_train_acc.reset_states()\n",
        "    "
      ],
      "execution_count": 80,
      "outputs": [
        {
          "output_type": "stream",
          "text": [
            "Epoch #: 0, Total Time: 25.10 sec, Epoch Time: 25.10 sec, Train Loss: 1.3435, Train Acc: 0.34, Test Acc: 34.02\n",
            "Epoch #: 5, Total Time: 149.22 sec, Epoch Time: 24.98 sec, Train Loss: 0.6047, Train Acc: 0.74, Test Acc: 58.42\n",
            "Epoch #: 10, Total Time: 274.23 sec, Epoch Time: 25.16 sec, Train Loss: 0.3061, Train Acc: 0.90, Test Acc: 60.81\n",
            "Epoch #: 15, Total Time: 397.71 sec, Epoch Time: 24.87 sec, Train Loss: 0.1266, Train Acc: 0.96, Test Acc: 63.72\n",
            "Epoch #: 20, Total Time: 522.12 sec, Epoch Time: 25.57 sec, Train Loss: 0.0845, Train Acc: 0.97, Test Acc: 66.62\n",
            "Epoch #: 25, Total Time: 646.65 sec, Epoch Time: 25.21 sec, Train Loss: 0.0671, Train Acc: 0.98, Test Acc: 66.56\n",
            "Epoch #: 30, Total Time: 771.83 sec, Epoch Time: 25.48 sec, Train Loss: 0.0479, Train Acc: 0.98, Test Acc: 67.01\n",
            "Epoch #: 35, Total Time: 897.93 sec, Epoch Time: 25.29 sec, Train Loss: 0.0338, Train Acc: 0.99, Test Acc: 67.85\n",
            "Epoch #: 40, Total Time: 1022.00 sec, Epoch Time: 25.15 sec, Train Loss: 0.0365, Train Acc: 0.99, Test Acc: 68.30\n",
            "Epoch #: 45, Total Time: 1146.93 sec, Epoch Time: 25.81 sec, Train Loss: 0.0192, Train Acc: 0.99, Test Acc: 67.27\n"
          ],
          "name": "stdout"
        }
      ]
    },
    {
      "cell_type": "markdown",
      "metadata": {
        "id": "q1vig3mbrfT2",
        "colab_type": "text"
      },
      "source": [
        "\n",
        "<br>\n",
        "Consider adding false positive and false negative by class measures<br>\n"
      ]
    },
    {
      "cell_type": "markdown",
      "metadata": {
        "id": "RWlvzG-OrfT2",
        "colab_type": "text"
      },
      "source": [
        "results per epoch:<br>\n",
        "1- avg per example loss per epoch i.e cumulative avg of batch avg loss reset <br>\n",
        "every epoch"
      ]
    },
    {
      "cell_type": "markdown",
      "metadata": {
        "id": "OoQkD4LArfT3",
        "colab_type": "text"
      },
      "source": [
        "2- cumulative acc on dataset over one epoch"
      ]
    }
  ]
}